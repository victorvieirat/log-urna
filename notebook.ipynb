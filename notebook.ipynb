{
 "cells": [
  {
   "cell_type": "code",
   "execution_count": 109,
   "metadata": {},
   "outputs": [],
   "source": [
    "from pyspark.sql import SparkSession \n",
    "\n",
    "sc = SparkSession.builder.appName(\"DataFrame\").getOrCreate()"
   ]
  },
  {
   "cell_type": "code",
   "execution_count": 110,
   "metadata": {},
   "outputs": [],
   "source": [
    "logs_interesse = [\n",
    "    \"Eleitor foi habilitado\",\n",
    "    \"Voto confirmado para [Deputado Federal]\",\n",
    "    \"Voto confirmado para [Deputado Estadual]\",\n",
    "    \"Voto confirmado para [Senador]\",\n",
    "    \"Voto confirmado para [Governador]\",\n",
    "    \"Voto confirmado para [Presidente]\",\n",
    "    \"Tecla indevida pressionada\",\n",
    "]\n",
    "regex_interesse = [    \"Município:\",\n",
    "    \"Zona Eleitoral:\",\n",
    "    \"Local de Votação:\",\n",
    "    \"Seção Eleitoral:\"]\n",
    "regex_interesse = \"|\".join(regex_interesse)"
   ]
  },
  {
   "cell_type": "code",
   "execution_count": 111,
   "metadata": {},
   "outputs": [
    {
     "name": "stdout",
     "output_type": "stream",
     "text": [
      "+-------------------+----------------------+\n",
      "|data               |descricao             |\n",
      "+-------------------+----------------------+\n",
      "|2022-09-22 15:15:23|Município: 18236      |\n",
      "|2022-09-22 15:15:23|Zona Eleitoral: 0016  |\n",
      "|2022-09-22 15:15:23|Local de Votação: 1120|\n",
      "|2022-09-22 15:15:23|Seção Eleitoral: 0158 |\n",
      "|2022-09-22 15:22:45|Município: 18236      |\n",
      "|2022-09-22 15:22:45|Zona Eleitoral: 0016  |\n",
      "|2022-09-22 15:22:45|Seção Eleitoral: 0158 |\n",
      "|2022-09-22 15:35:49|Município: 18236      |\n",
      "|2022-09-22 15:35:49|Zona Eleitoral: 0016  |\n",
      "|2022-09-22 15:35:49|Seção Eleitoral: 0158 |\n",
      "|2022-09-28 14:51:55|Município: 18236      |\n",
      "|2022-09-28 14:51:55|Zona Eleitoral: 0016  |\n",
      "|2022-09-28 14:51:55|Seção Eleitoral: 0158 |\n",
      "|2022-10-01 15:24:28|Município: 18236      |\n",
      "|2022-10-01 15:24:28|Zona Eleitoral: 0016  |\n",
      "|2022-10-01 15:24:28|Seção Eleitoral: 0158 |\n",
      "|2022-10-02 07:26:05|Município: 18236      |\n",
      "|2022-10-02 07:26:05|Zona Eleitoral: 0016  |\n",
      "|2022-10-02 07:26:05|Seção Eleitoral: 0158 |\n",
      "|2022-10-02 08:04:22|Eleitor foi habilitado|\n",
      "+-------------------+----------------------+\n",
      "only showing top 20 rows\n",
      "\n"
     ]
    }
   ],
   "source": [
    "import pyspark.sql.functions as F\n",
    "\n",
    "DATA_PATH = \"/app/data/\"\n",
    "input_file = DATA_PATH+\"decodificado/*\" \n",
    "\n",
    "df = sc.read.csv(input_file, sep=\"\\t\", header=False)\n",
    "df = df.withColumnRenamed(\"_c0\",\"data\") \\\n",
    "    .withColumnRenamed(\"_c4\",\"descricao\")\n",
    "df = df.select(\"data\",\"descricao\")\n",
    "df = df.filter(F.col(\"descricao\").isin(logs_interesse) | F.col(\"descricao\").rlike(regex_interesse))\n",
    "df = df.withColumn(\"data\", F.to_timestamp(F.col(\"data\"), 'dd/MM/yyyy HH:mm:ss'))\n",
    "\n",
    "df.show(truncate=False)"
   ]
  },
  {
   "cell_type": "code",
   "execution_count": 113,
   "metadata": {},
   "outputs": [],
   "source": [
    "from pyspark.sql.window import Window\n",
    "from unidecode import unidecode\n",
    "\n",
    "window = (\n",
    "    Window\n",
    "    .orderBy('data')\n",
    "    .rowsBetween(Window.unboundedPreceding, Window.currentRow)\n",
    ")\n",
    "\n",
    "for nome_extracao in [\"Município\",\"Zona Eleitoral\",\"Seção Eleitoral\"]:\n",
    "     nome_col = unidecode(nome_extracao).replace(\" \",\"_\")\n",
    "     df = df.withColumn(nome_col,\n",
    "                    F.when(F.col(\"descricao\").contains(nome_extracao),\n",
    "                         F.regexp_extract(F.col(\"descricao\"), rf\"{nome_extracao}: (\\d+)\", 1).cast(\"integer\"))\n",
    "                    .otherwise(None))\n",
    "\n",
    "     df = (\n",
    "     df\n",
    "     .withColumn(nome_col, F.last(nome_col, ignorenulls=True).over(window))\n",
    "     )"
   ]
  },
  {
   "cell_type": "code",
   "execution_count": 114,
   "metadata": {},
   "outputs": [
    {
     "name": "stderr",
     "output_type": "stream",
     "text": [
      "24/03/13 21:39:12 WARN WindowExec: No Partition Defined for Window operation! Moving all data to a single partition, this can cause serious performance degradation.\n",
      "24/03/13 21:39:12 WARN WindowExec: No Partition Defined for Window operation! Moving all data to a single partition, this can cause serious performance degradation.\n",
      "24/03/13 21:39:12 WARN WindowExec: No Partition Defined for Window operation! Moving all data to a single partition, this can cause serious performance degradation.\n",
      "24/03/13 21:39:12 WARN WindowExec: No Partition Defined for Window operation! Moving all data to a single partition, this can cause serious performance degradation.\n",
      "24/03/13 21:39:12 WARN WindowExec: No Partition Defined for Window operation! Moving all data to a single partition, this can cause serious performance degradation.\n",
      "24/03/13 21:39:12 WARN WindowExec: No Partition Defined for Window operation! Moving all data to a single partition, this can cause serious performance degradation.\n",
      "24/03/13 21:39:12 WARN WindowExec: No Partition Defined for Window operation! Moving all data to a single partition, this can cause serious performance degradation.\n",
      "24/03/13 21:39:12 WARN WindowExec: No Partition Defined for Window operation! Moving all data to a single partition, this can cause serious performance degradation.\n",
      "24/03/13 21:39:12 WARN WindowExec: No Partition Defined for Window operation! Moving all data to a single partition, this can cause serious performance degradation.\n",
      "24/03/13 21:39:12 WARN WindowExec: No Partition Defined for Window operation! Moving all data to a single partition, this can cause serious performance degradation.\n",
      "24/03/13 21:39:12 WARN WindowExec: No Partition Defined for Window operation! Moving all data to a single partition, this can cause serious performance degradation.\n",
      "24/03/13 21:39:12 WARN WindowExec: No Partition Defined for Window operation! Moving all data to a single partition, this can cause serious performance degradation.\n",
      "24/03/13 21:39:12 WARN WindowExec: No Partition Defined for Window operation! Moving all data to a single partition, this can cause serious performance degradation.\n",
      "24/03/13 21:39:12 WARN WindowExec: No Partition Defined for Window operation! Moving all data to a single partition, this can cause serious performance degradation.\n",
      "24/03/13 21:39:12 WARN WindowExec: No Partition Defined for Window operation! Moving all data to a single partition, this can cause serious performance degradation.\n",
      "24/03/13 21:39:12 WARN WindowExec: No Partition Defined for Window operation! Moving all data to a single partition, this can cause serious performance degradation.\n",
      "24/03/13 21:39:12 WARN WindowExec: No Partition Defined for Window operation! Moving all data to a single partition, this can cause serious performance degradation.\n"
     ]
    },
    {
     "name": "stdout",
     "output_type": "stream",
     "text": [
      "+-------------------+----------------------------------------+---------+--------------+---------------+-----------+----------+\n",
      "|data               |descricao                               |Municipio|Zona_Eleitoral|Secao_Eleitoral|erros_tecla|id_eleitor|\n",
      "+-------------------+----------------------------------------+---------+--------------+---------------+-----------+----------+\n",
      "|2022-10-02 08:01:06|Eleitor foi habilitado                  |18236    |16            |139            |0          |1         |\n",
      "|2022-10-02 08:01:07|Eleitor foi habilitado                  |18236    |16            |139            |0          |2         |\n",
      "|2022-10-02 08:01:07|Eleitor foi habilitado                  |18236    |16            |139            |0          |3         |\n",
      "|2022-10-02 08:01:11|Tecla indevida pressionada              |18236    |16            |139            |1          |3         |\n",
      "|2022-10-02 08:01:14|Voto confirmado para [Deputado Federal] |18236    |16            |139            |0          |3         |\n",
      "|2022-10-02 08:01:17|Tecla indevida pressionada              |18236    |16            |139            |1          |3         |\n",
      "|2022-10-02 08:01:18|Voto confirmado para [Deputado Estadual]|18236    |16            |139            |0          |3         |\n",
      "|2022-10-02 08:01:21|Tecla indevida pressionada              |18236    |16            |139            |1          |3         |\n",
      "|2022-10-02 08:01:22|Voto confirmado para [Senador]          |18236    |16            |139            |0          |3         |\n",
      "|2022-10-02 08:01:23|Eleitor foi habilitado                  |18236    |16            |139            |0          |4         |\n",
      "|2022-10-02 08:01:24|Voto confirmado para [Deputado Federal] |18236    |16            |139            |0          |4         |\n",
      "|2022-10-02 08:01:25|Tecla indevida pressionada              |18236    |16            |139            |1          |4         |\n",
      "|2022-10-02 08:01:26|Voto confirmado para [Governador]       |18236    |16            |139            |0          |4         |\n",
      "|2022-10-02 08:01:29|Voto confirmado para [Presidente]       |18236    |16            |139            |0          |4         |\n",
      "|2022-10-02 08:01:30|Tecla indevida pressionada              |18236    |16            |139            |1          |4         |\n",
      "|2022-10-02 08:01:33|Voto confirmado para [Deputado Estadual]|18236    |16            |139            |0          |4         |\n",
      "|2022-10-02 08:01:35|Voto confirmado para [Deputado Federal] |18236    |16            |139            |0          |4         |\n",
      "|2022-10-02 08:01:37|Voto confirmado para [Senador]          |18236    |16            |139            |0          |4         |\n",
      "|2022-10-02 08:01:39|Eleitor foi habilitado                  |18236    |16            |139            |0          |5         |\n",
      "|2022-10-02 08:01:40|Tecla indevida pressionada              |18236    |16            |139            |1          |5         |\n",
      "+-------------------+----------------------------------------+---------+--------------+---------------+-----------+----------+\n",
      "only showing top 20 rows\n",
      "\n"
     ]
    }
   ],
   "source": [
    "df = df.filter(~F.col(\"descricao\").rlike(regex_interesse))\n",
    "#df = df.dropDuplicates()\n",
    "df = df.withColumn(\"erros_tecla\",\n",
    "                   F.when(F.col(\"descricao\") == \"Tecla indevida pressionada\", 1)\n",
    "                   .otherwise(0))\n",
    "\n",
    "df = df.withColumn(\"id_eleitor\",\n",
    "                   F.when(F.col(\"descricao\") == \"Eleitor foi habilitado\", 1)\n",
    "                   .otherwise(0))\n",
    "my_window = (Window.orderBy('data')\n",
    "             .rowsBetween(Window.unboundedPreceding, 0))\n",
    "df = df.withColumn('id_eleitor', F.sum('id_eleitor').over(my_window))\n",
    "\n",
    "df.show(truncate=False)"
   ]
  },
  {
   "cell_type": "code",
   "execution_count": 80,
   "metadata": {},
   "outputs": [
    {
     "name": "stdout",
     "output_type": "stream",
     "text": [
      "root\n",
      " |-- data: timestamp (nullable = true)\n",
      " |-- descricao: string (nullable = true)\n",
      " |-- Municipio: integer (nullable = true)\n",
      " |-- Zona_Eleitoral: integer (nullable = true)\n",
      " |-- Secao_Eleitoral: integer (nullable = true)\n",
      "\n"
     ]
    }
   ],
   "source": [
    "df.printSchema()"
   ]
  },
  {
   "cell_type": "code",
   "execution_count": null,
   "metadata": {},
   "outputs": [],
   "source": [
    "sc.stop()"
   ]
  }
 ],
 "metadata": {
  "kernelspec": {
   "display_name": "base",
   "language": "python",
   "name": "python3"
  },
  "language_info": {
   "codemirror_mode": {
    "name": "ipython",
    "version": 3
   },
   "file_extension": ".py",
   "mimetype": "text/x-python",
   "name": "python",
   "nbconvert_exporter": "python",
   "pygments_lexer": "ipython3",
   "version": "3.11.5"
  }
 },
 "nbformat": 4,
 "nbformat_minor": 2
}

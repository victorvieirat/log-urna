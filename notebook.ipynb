{
 "cells": [
  {
   "cell_type": "code",
   "execution_count": 9,
   "metadata": {},
   "outputs": [],
   "source": [
    "from pyspark.sql import SparkSession \n",
    "\n",
    "sc = SparkSession.builder.appName(\"DataFrame\").getOrCreate()"
   ]
  },
  {
   "cell_type": "code",
   "execution_count": 10,
   "metadata": {},
   "outputs": [],
   "source": [
    "logs_interesse = [\n",
    "    \"Eleitor foi habilitado\",\n",
    "    \"Voto confirmado para [Deputado Federal]\",\n",
    "    \"Voto confirmado para [Deputado Estadual]\",\n",
    "    \"Voto confirmado para [Senador]\",\n",
    "    \"Voto confirmado para [Governador]\",\n",
    "    \"Voto confirmado para [Presidente]\",\n",
    "    \"Tecla indevida pressionada\",\n",
    "]\n",
    "regex_interesse = [\n",
    "    \"Município:\",\n",
    "    \"Zona Eleitoral:\",\n",
    "    \"Local de Votação:\",\n",
    "    \"Seção Eleitoral:\",\n",
    "]\n",
    "regex_interesse = \"|\".join(regex_interesse)"
   ]
  },
  {
   "cell_type": "code",
   "execution_count": 11,
   "metadata": {},
   "outputs": [
    {
     "name": "stderr",
     "output_type": "stream",
     "text": [
      "24/03/16 17:53:38 WARN RowBasedKeyValueBatch: Calling spill() on RowBasedKeyValueBatch. Will not spill but return 0.\n",
      "24/03/16 17:53:38 WARN RowBasedKeyValueBatch: Calling spill() on RowBasedKeyValueBatch. Will not spill but return 0.\n",
      "24/03/16 17:53:39 WARN RowBasedKeyValueBatch: Calling spill() on RowBasedKeyValueBatch. Will not spill but return 0.\n",
      "24/03/16 17:53:39 WARN RowBasedKeyValueBatch: Calling spill() on RowBasedKeyValueBatch. Will not spill but return 0.\n",
      "24/03/16 17:53:39 WARN RowBasedKeyValueBatch: Calling spill() on RowBasedKeyValueBatch. Will not spill but return 0.\n",
      "24/03/16 17:53:39 WARN RowBasedKeyValueBatch: Calling spill() on RowBasedKeyValueBatch. Will not spill but return 0.\n",
      "24/03/16 17:53:40 WARN RowBasedKeyValueBatch: Calling spill() on RowBasedKeyValueBatch. Will not spill but return 0.\n",
      "24/03/16 17:53:40 WARN RowBasedKeyValueBatch: Calling spill() on RowBasedKeyValueBatch. Will not spill but return 0.\n",
      "24/03/16 17:53:40 WARN RowBasedKeyValueBatch: Calling spill() on RowBasedKeyValueBatch. Will not spill but return 0.\n",
      "24/03/16 17:53:40 WARN RowBasedKeyValueBatch: Calling spill() on RowBasedKeyValueBatch. Will not spill but return 0.\n",
      "24/03/16 17:53:40 WARN RowBasedKeyValueBatch: Calling spill() on RowBasedKeyValueBatch. Will not spill but return 0.\n",
      "                                                                                \r"
     ]
    }
   ],
   "source": [
    "import pyspark.sql.functions as F\n",
    "\n",
    "DATA_PATH = \"/app/data/\"\n",
    "input_file = DATA_PATH+\"decodificado/*\" \n",
    "\n",
    "source = sc.read.csv(input_file, sep=\"\\t\", header=False)\n",
    "source = source.withColumn(\"arquivo\", F.input_file_name())"
   ]
  },
  {
   "cell_type": "markdown",
   "metadata": {},
   "source": [
    "Selecionando amostra de 10% das urnas"
   ]
  },
  {
   "cell_type": "code",
   "execution_count": 12,
   "metadata": {},
   "outputs": [
    {
     "name": "stderr",
     "output_type": "stream",
     "text": [
      "[Stage 40:==================================================>  (257 + 12) / 270]\r"
     ]
    },
    {
     "name": "stdout",
     "output_type": "stream",
     "text": [
      "Número de urnas selecionadas 2\n"
     ]
    },
    {
     "name": "stderr",
     "output_type": "stream",
     "text": [
      "                                                                                \r"
     ]
    }
   ],
   "source": [
    "distinto = source.select('arquivo').distinct()\n",
    "amostra = distinto.sample(False, (2/distinto.count()),seed=1100)\n",
    "source =  source.filter(F.col(\"arquivo\").isin(*amostra.toPandas()['arquivo'].values))\n",
    "print(f'Número de urnas selecionadas {amostra.count()}')"
   ]
  },
  {
   "cell_type": "code",
   "execution_count": 13,
   "metadata": {},
   "outputs": [
    {
     "name": "stderr",
     "output_type": "stream",
     "text": [
      "[Stage 48:=================================>                      (12 + 8) / 20]\r"
     ]
    },
    {
     "name": "stdout",
     "output_type": "stream",
     "text": [
      "+-------------------+----------------------+------------------------------------------------------+\n",
      "|data               |descricao             |arquivo                                               |\n",
      "+-------------------+----------------------+------------------------------------------------------+\n",
      "|2022-09-21 13:08:00|Município: 17558      |file:///app/data/decodificado/o00406-1755800440052.txt|\n",
      "|2022-09-21 13:08:00|Zona Eleitoral: 0044  |file:///app/data/decodificado/o00406-1755800440052.txt|\n",
      "|2022-09-21 13:08:00|Local de Votação: 1147|file:///app/data/decodificado/o00406-1755800440052.txt|\n",
      "|2022-09-21 13:08:00|Seção Eleitoral: 0052 |file:///app/data/decodificado/o00406-1755800440052.txt|\n",
      "|2022-09-21 13:13:21|Município: 17558      |file:///app/data/decodificado/o00406-1755800440052.txt|\n",
      "|2022-09-21 13:13:21|Zona Eleitoral: 0044  |file:///app/data/decodificado/o00406-1755800440052.txt|\n",
      "|2022-09-21 13:13:21|Seção Eleitoral: 0052 |file:///app/data/decodificado/o00406-1755800440052.txt|\n",
      "|2022-09-21 13:24:10|Município: 17558      |file:///app/data/decodificado/o00406-1755800440052.txt|\n",
      "|2022-09-21 13:24:10|Zona Eleitoral: 0044  |file:///app/data/decodificado/o00406-1755800440052.txt|\n",
      "|2022-09-21 13:24:10|Seção Eleitoral: 0052 |file:///app/data/decodificado/o00406-1755800440052.txt|\n",
      "|2022-09-21 13:58:58|Município: 17558      |file:///app/data/decodificado/o00406-1755800440052.txt|\n",
      "|2022-09-21 13:58:58|Zona Eleitoral: 0044  |file:///app/data/decodificado/o00406-1755800440052.txt|\n",
      "|2022-09-21 13:58:58|Seção Eleitoral: 0052 |file:///app/data/decodificado/o00406-1755800440052.txt|\n",
      "|2022-09-28 11:42:54|Município: 17558      |file:///app/data/decodificado/o00406-1755800440052.txt|\n",
      "|2022-09-28 11:42:54|Zona Eleitoral: 0044  |file:///app/data/decodificado/o00406-1755800440052.txt|\n",
      "|2022-09-28 11:42:54|Seção Eleitoral: 0052 |file:///app/data/decodificado/o00406-1755800440052.txt|\n",
      "|2022-10-01 12:21:32|Município: 17558      |file:///app/data/decodificado/o00406-1755800440052.txt|\n",
      "|2022-10-01 12:21:32|Zona Eleitoral: 0044  |file:///app/data/decodificado/o00406-1755800440052.txt|\n",
      "|2022-10-01 12:21:32|Seção Eleitoral: 0052 |file:///app/data/decodificado/o00406-1755800440052.txt|\n",
      "|2022-10-02 07:34:00|Município: 17558      |file:///app/data/decodificado/o00406-1755800440052.txt|\n",
      "+-------------------+----------------------+------------------------------------------------------+\n",
      "only showing top 20 rows\n",
      "\n"
     ]
    },
    {
     "name": "stderr",
     "output_type": "stream",
     "text": [
      "                                                                                \r"
     ]
    }
   ],
   "source": [
    "df = source.withColumnRenamed(\"_c0\", \"data\").withColumnRenamed(\"_c4\", \"descricao\")\n",
    "df = df.select(\"data\", \"descricao\")\n",
    "df = df.withColumn(\"arquivo\", F.input_file_name())\n",
    "df = df.filter(\n",
    "    F.col(\"descricao\").isin(logs_interesse) | F.col(\"descricao\").rlike(regex_interesse)\n",
    ")\n",
    "\n",
    "df = df.withColumn(\"data\", F.to_timestamp(F.col(\"data\"), \"dd/MM/yyyy HH:mm:ss\"))\n",
    "df.show(truncate=False)"
   ]
  },
  {
   "cell_type": "code",
   "execution_count": 14,
   "metadata": {},
   "outputs": [
    {
     "name": "stderr",
     "output_type": "stream",
     "text": [
      "[Stage 49:==================================================>  (259 + 11) / 270]\r"
     ]
    },
    {
     "name": "stdout",
     "output_type": "stream",
     "text": [
      "+-------------------+----------------------+------------------------------------------------------+---------+--------------+---------------+\n",
      "|data               |descricao             |arquivo                                               |Municipio|Zona_Eleitoral|Secao_Eleitoral|\n",
      "+-------------------+----------------------+------------------------------------------------------+---------+--------------+---------------+\n",
      "|2022-09-19 13:39:40|Município: 17256      |file:///app/data/decodificado/o00406-1725600440147.txt|17256    |NULL          |NULL           |\n",
      "|2022-09-19 13:39:40|Zona Eleitoral: 0044  |file:///app/data/decodificado/o00406-1725600440147.txt|17256    |44            |NULL           |\n",
      "|2022-09-19 13:39:40|Local de Votação: 1058|file:///app/data/decodificado/o00406-1725600440147.txt|17256    |44            |NULL           |\n",
      "|2022-09-19 13:39:40|Seção Eleitoral: 0147 |file:///app/data/decodificado/o00406-1725600440147.txt|17256    |44            |147            |\n",
      "|2022-09-19 13:48:06|Município: 17256      |file:///app/data/decodificado/o00406-1725600440147.txt|17256    |44            |147            |\n",
      "|2022-09-19 13:48:06|Zona Eleitoral: 0044  |file:///app/data/decodificado/o00406-1725600440147.txt|17256    |44            |147            |\n",
      "|2022-09-19 13:48:06|Seção Eleitoral: 0147 |file:///app/data/decodificado/o00406-1725600440147.txt|17256    |44            |147            |\n",
      "|2022-09-19 13:52:20|Município: 17256      |file:///app/data/decodificado/o00406-1725600440147.txt|17256    |44            |147            |\n",
      "|2022-09-19 13:52:20|Zona Eleitoral: 0044  |file:///app/data/decodificado/o00406-1725600440147.txt|17256    |44            |147            |\n",
      "|2022-09-19 13:52:20|Seção Eleitoral: 0147 |file:///app/data/decodificado/o00406-1725600440147.txt|17256    |44            |147            |\n",
      "|2022-09-19 14:08:32|Município: 17256      |file:///app/data/decodificado/o00406-1725600440147.txt|17256    |44            |147            |\n",
      "|2022-09-19 14:08:32|Zona Eleitoral: 0044  |file:///app/data/decodificado/o00406-1725600440147.txt|17256    |44            |147            |\n",
      "|2022-09-19 14:08:32|Seção Eleitoral: 0147 |file:///app/data/decodificado/o00406-1725600440147.txt|17256    |44            |147            |\n",
      "|2022-09-19 14:49:01|Município: 17256      |file:///app/data/decodificado/o00406-1725600440147.txt|17256    |44            |147            |\n",
      "|2022-09-19 14:49:01|Zona Eleitoral: 0044  |file:///app/data/decodificado/o00406-1725600440147.txt|17256    |44            |147            |\n",
      "|2022-09-19 14:49:01|Seção Eleitoral: 0147 |file:///app/data/decodificado/o00406-1725600440147.txt|17256    |44            |147            |\n",
      "|2022-09-19 14:58:55|Município: 17256      |file:///app/data/decodificado/o00406-1725600440147.txt|17256    |44            |147            |\n",
      "|2022-09-19 14:58:55|Zona Eleitoral: 0044  |file:///app/data/decodificado/o00406-1725600440147.txt|17256    |44            |147            |\n",
      "|2022-09-19 14:58:55|Seção Eleitoral: 0147 |file:///app/data/decodificado/o00406-1725600440147.txt|17256    |44            |147            |\n",
      "|2022-09-28 09:03:20|Município: 17256      |file:///app/data/decodificado/o00406-1725600440147.txt|17256    |44            |147            |\n",
      "+-------------------+----------------------+------------------------------------------------------+---------+--------------+---------------+\n",
      "only showing top 20 rows\n",
      "\n"
     ]
    },
    {
     "name": "stderr",
     "output_type": "stream",
     "text": [
      "                                                                                \r"
     ]
    }
   ],
   "source": [
    "from pyspark.sql.window import Window\n",
    "from unidecode import unidecode\n",
    "\n",
    "window = (\n",
    "    Window.orderBy(\"data\")\n",
    "    .partitionBy(\"arquivo\") #Paraleliza pelo arquivo\n",
    "    .rowsBetween(Window.unboundedPreceding, Window.currentRow)\n",
    ")\n",
    "\n",
    "df_window = df\n",
    "for nome_extracao in [\"Município\", \"Zona Eleitoral\", \"Seção Eleitoral\"]:\n",
    "    nome_col = unidecode(nome_extracao).replace(\" \", \"_\")\n",
    "    df_window = df_window.withColumn(\n",
    "        nome_col,\n",
    "        F.when(\n",
    "            F.col(\"descricao\").contains(nome_extracao),\n",
    "            F.regexp_extract(F.col(\"descricao\"), rf\"{nome_extracao}: (\\d+)\", 1).cast(\n",
    "                \"integer\"\n",
    "            ),\n",
    "        ).otherwise(None),\n",
    "    )\n",
    "\n",
    "    df_window = df_window.withColumn(\n",
    "        nome_col, F.last(nome_col, ignorenulls=True).over(window)\n",
    "    )\n",
    "df_window.show(truncate=False)"
   ]
  },
  {
   "cell_type": "code",
   "execution_count": 21,
   "metadata": {},
   "outputs": [
    {
     "name": "stderr",
     "output_type": "stream",
     "text": [
      "[Stage 79:====================================================> (261 + 9) / 270]\r"
     ]
    },
    {
     "name": "stdout",
     "output_type": "stream",
     "text": [
      "+-------------------+----------------------------------------+------------------------------------------------------+---------+--------------+---------------+-----------+----------+\n",
      "|data               |descricao                               |arquivo                                               |Municipio|Zona_Eleitoral|Secao_Eleitoral|erros_tecla|id_eleitor|\n",
      "+-------------------+----------------------------------------+------------------------------------------------------+---------+--------------+---------------+-----------+----------+\n",
      "|2022-10-02 08:01:46|Eleitor foi habilitado                  |file:///app/data/decodificado/o00406-1725600440147.txt|17256    |44            |147            |0          |1         |\n",
      "|2022-10-02 08:02:26|Voto confirmado para [Deputado Federal] |file:///app/data/decodificado/o00406-1725600440147.txt|17256    |44            |147            |0          |1         |\n",
      "|2022-10-02 08:02:44|Voto confirmado para [Deputado Estadual]|file:///app/data/decodificado/o00406-1725600440147.txt|17256    |44            |147            |0          |1         |\n",
      "|2022-10-02 08:02:57|Voto confirmado para [Senador]          |file:///app/data/decodificado/o00406-1725600440147.txt|17256    |44            |147            |0          |1         |\n",
      "|2022-10-02 08:03:07|Voto confirmado para [Governador]       |file:///app/data/decodificado/o00406-1725600440147.txt|17256    |44            |147            |0          |1         |\n",
      "|2022-10-02 08:03:17|Voto confirmado para [Presidente]       |file:///app/data/decodificado/o00406-1725600440147.txt|17256    |44            |147            |0          |1         |\n",
      "|2022-10-02 08:04:37|Eleitor foi habilitado                  |file:///app/data/decodificado/o00406-1725600440147.txt|17256    |44            |147            |0          |2         |\n",
      "|2022-10-02 08:05:08|Voto confirmado para [Deputado Federal] |file:///app/data/decodificado/o00406-1725600440147.txt|17256    |44            |147            |0          |2         |\n",
      "|2022-10-02 08:05:26|Voto confirmado para [Deputado Estadual]|file:///app/data/decodificado/o00406-1725600440147.txt|17256    |44            |147            |0          |2         |\n",
      "|2022-10-02 08:05:37|Tecla indevida pressionada              |file:///app/data/decodificado/o00406-1725600440147.txt|17256    |44            |147            |1          |2         |\n",
      "|2022-10-02 08:07:24|Tecla indevida pressionada              |file:///app/data/decodificado/o00406-1725600440147.txt|17256    |44            |147            |1          |2         |\n",
      "|2022-10-02 08:07:58|Voto confirmado para [Senador]          |file:///app/data/decodificado/o00406-1725600440147.txt|17256    |44            |147            |0          |2         |\n",
      "|2022-10-02 08:08:06|Tecla indevida pressionada              |file:///app/data/decodificado/o00406-1725600440147.txt|17256    |44            |147            |1          |2         |\n",
      "|2022-10-02 08:08:08|Voto confirmado para [Governador]       |file:///app/data/decodificado/o00406-1725600440147.txt|17256    |44            |147            |0          |2         |\n",
      "|2022-10-02 08:08:16|Tecla indevida pressionada              |file:///app/data/decodificado/o00406-1725600440147.txt|17256    |44            |147            |1          |2         |\n",
      "|2022-10-02 08:08:18|Voto confirmado para [Presidente]       |file:///app/data/decodificado/o00406-1725600440147.txt|17256    |44            |147            |0          |2         |\n",
      "|2022-10-02 08:11:39|Eleitor foi habilitado                  |file:///app/data/decodificado/o00406-1725600440147.txt|17256    |44            |147            |0          |3         |\n",
      "|2022-10-02 08:12:00|Voto confirmado para [Deputado Federal] |file:///app/data/decodificado/o00406-1725600440147.txt|17256    |44            |147            |0          |3         |\n",
      "|2022-10-02 08:12:13|Voto confirmado para [Deputado Estadual]|file:///app/data/decodificado/o00406-1725600440147.txt|17256    |44            |147            |0          |3         |\n",
      "|2022-10-02 08:12:23|Voto confirmado para [Senador]          |file:///app/data/decodificado/o00406-1725600440147.txt|17256    |44            |147            |0          |3         |\n",
      "+-------------------+----------------------------------------+------------------------------------------------------+---------+--------------+---------------+-----------+----------+\n",
      "only showing top 20 rows\n",
      "\n"
     ]
    },
    {
     "name": "stderr",
     "output_type": "stream",
     "text": [
      "                                                                                \r"
     ]
    }
   ],
   "source": [
    "df_teclas = df_window.filter(~F.col(\"descricao\").rlike(regex_interesse))\n",
    "df_teclas = df_teclas.withColumn(\n",
    "    \"erros_tecla\",\n",
    "    F.when(F.col(\"descricao\") == \"Tecla indevida pressionada\", 1).otherwise(0),\n",
    ")\n",
    "\n",
    "df_teclas = df_teclas.withColumn(\n",
    "    \"id_eleitor\", F.when(F.col(\"descricao\") == \"Eleitor foi habilitado\", 1).otherwise(0)\n",
    ")\n",
    "my_window = (\n",
    "    Window.orderBy(\"data\")\n",
    "    .partitionBy(\"arquivo\")\n",
    "    .rowsBetween(Window.unboundedPreceding, 0)\n",
    ")\n",
    "df_teclas = df_teclas.withColumn(\"id_eleitor\", F.sum(\"id_eleitor\").over(my_window))\n",
    "\n",
    "\n",
    "df_teclas.orderBy([\"arquivo\",\"data\"], ascending=[1,1]).show(truncate=False)"
   ]
  },
  {
   "cell_type": "code",
   "execution_count": 22,
   "metadata": {},
   "outputs": [
    {
     "name": "stderr",
     "output_type": "stream",
     "text": [
      "[Stage 82:====================================================> (262 + 8) / 270]\r"
     ]
    },
    {
     "name": "stdout",
     "output_type": "stream",
     "text": [
      "+------------------------------------------------------+----------+----------------+\n",
      "|arquivo                                               |id_eleitor|sum(erros_tecla)|\n",
      "+------------------------------------------------------+----------+----------------+\n",
      "|file:///app/data/decodificado/o00406-1725600440147.txt|1         |0               |\n",
      "|file:///app/data/decodificado/o00406-1725600440147.txt|2         |4               |\n",
      "|file:///app/data/decodificado/o00406-1725600440147.txt|3         |0               |\n",
      "|file:///app/data/decodificado/o00406-1725600440147.txt|4         |0               |\n",
      "|file:///app/data/decodificado/o00406-1725600440147.txt|5         |0               |\n",
      "|file:///app/data/decodificado/o00406-1725600440147.txt|6         |0               |\n",
      "|file:///app/data/decodificado/o00406-1725600440147.txt|7         |0               |\n",
      "|file:///app/data/decodificado/o00406-1725600440147.txt|8         |0               |\n",
      "|file:///app/data/decodificado/o00406-1725600440147.txt|9         |5               |\n",
      "|file:///app/data/decodificado/o00406-1725600440147.txt|10        |1               |\n",
      "|file:///app/data/decodificado/o00406-1725600440147.txt|11        |0               |\n",
      "|file:///app/data/decodificado/o00406-1725600440147.txt|12        |1               |\n",
      "|file:///app/data/decodificado/o00406-1725600440147.txt|13        |1               |\n",
      "|file:///app/data/decodificado/o00406-1725600440147.txt|14        |0               |\n",
      "|file:///app/data/decodificado/o00406-1725600440147.txt|15        |0               |\n",
      "|file:///app/data/decodificado/o00406-1725600440147.txt|16        |2               |\n",
      "|file:///app/data/decodificado/o00406-1725600440147.txt|17        |2               |\n",
      "|file:///app/data/decodificado/o00406-1725600440147.txt|18        |1               |\n",
      "|file:///app/data/decodificado/o00406-1725600440147.txt|19        |0               |\n",
      "|file:///app/data/decodificado/o00406-1725600440147.txt|20        |1               |\n",
      "+------------------------------------------------------+----------+----------------+\n",
      "only showing top 20 rows\n",
      "\n"
     ]
    },
    {
     "name": "stderr",
     "output_type": "stream",
     "text": [
      "                                                                                \r"
     ]
    }
   ],
   "source": [
    "agrupado_eleitor = df_teclas.groupBy(\"arquivo\", \"id_eleitor\").agg({\"erros_tecla\": \"sum\"}).orderBy([\"arquivo\",\"id_eleitor\"], ascending=[1,1])\n",
    "agrupado_eleitor.show(truncate=False)"
   ]
  },
  {
   "cell_type": "code",
   "execution_count": 31,
   "metadata": {},
   "outputs": [
    {
     "name": "stderr",
     "output_type": "stream",
     "text": [
      "[Stage 137:===========>(260 + 10) / 270][Stage 139:>                (0 + 1) / 1]\r"
     ]
    },
    {
     "name": "stdout",
     "output_type": "stream",
     "text": [
      "+--------------------+----------+-------------------+--------------------+---------+--------------+---------------+----------------+\n",
      "|             arquivo|id_eleitor|               data|           descricao|Municipio|Zona_Eleitoral|Secao_Eleitoral|sum(erros_tecla)|\n",
      "+--------------------+----------+-------------------+--------------------+---------+--------------+---------------+----------------+\n",
      "|file:///app/data/...|         1|2022-10-02 08:01:46|Eleitor foi habil...|    17256|            44|            147|               0|\n",
      "|file:///app/data/...|         1|2022-10-02 08:02:26|Voto confirmado p...|    17256|            44|            147|               0|\n",
      "|file:///app/data/...|         1|2022-10-02 08:02:44|Voto confirmado p...|    17256|            44|            147|               0|\n",
      "|file:///app/data/...|         1|2022-10-02 08:02:57|Voto confirmado p...|    17256|            44|            147|               0|\n",
      "|file:///app/data/...|         1|2022-10-02 08:03:07|Voto confirmado p...|    17256|            44|            147|               0|\n",
      "+--------------------+----------+-------------------+--------------------+---------+--------------+---------------+----------------+\n",
      "only showing top 5 rows\n",
      "\n"
     ]
    },
    {
     "name": "stderr",
     "output_type": "stream",
     "text": [
      "                                                                                \r"
     ]
    }
   ],
   "source": [
    "df_soma_tecla = df_teclas.join(agrupado_eleitor, on=['arquivo', 'id_eleitor'], how='left')\n",
    "df_soma_tecla = df_soma_tecla.drop(\"erros_tecla\")\n",
    "df_soma_tecla.show(5)"
   ]
  },
  {
   "cell_type": "code",
   "execution_count": 36,
   "metadata": {},
   "outputs": [],
   "source": [
    "w = Window.partitionBy(\"arquivo\", \"id_eleitor\").orderBy(\"data\")\n",
    "df_tempo_segundos = (\n",
    "    df_teclas.withColumn(\"lag_tempo\", F.lag(df_teclas[\"data\"], 1).over(w))\n",
    "    .withColumn(\n",
    "        \"tempo(segundos)\",\n",
    "        (\n",
    "            F.unix_timestamp(\n",
    "                df_teclas[\"data\"],\n",
    "            )\n",
    "            - F.unix_timestamp(F.col(\"lag_tempo\"))\n",
    "        ),\n",
    "    )\n",
    ")"
   ]
  },
  {
   "cell_type": "code",
   "execution_count": 38,
   "metadata": {},
   "outputs": [
    {
     "name": "stderr",
     "output_type": "stream",
     "text": [
      "                                                                                \r"
     ]
    },
    {
     "data": {
      "text/plain": [
       "4186"
      ]
     },
     "execution_count": 38,
     "metadata": {},
     "output_type": "execute_result"
    }
   ],
   "source": [
    "df_tempo_segundos.count()"
   ]
  },
  {
   "cell_type": "code",
   "execution_count": 42,
   "metadata": {},
   "outputs": [
    {
     "name": "stderr",
     "output_type": "stream",
     "text": [
      "                                                                                \r"
     ]
    },
    {
     "name": "stdout",
     "output_type": "stream",
     "text": [
      "+-------------------+--------------------+--------------------+---------+--------------+---------------+-----------+----------+-------------------+---------------+\n",
      "|               data|           descricao|             arquivo|Municipio|Zona_Eleitoral|Secao_Eleitoral|erros_tecla|id_eleitor|          lag_tempo|tempo(segundos)|\n",
      "+-------------------+--------------------+--------------------+---------+--------------+---------------+-----------+----------+-------------------+---------------+\n",
      "|2022-10-02 08:01:46|Eleitor foi habil...|file:///app/data/...|    17256|            44|            147|          0|         1|               NULL|           NULL|\n",
      "|2022-10-02 08:02:26|Voto confirmado p...|file:///app/data/...|    17256|            44|            147|          0|         1|2022-10-02 08:01:46|             40|\n",
      "|2022-10-02 08:02:44|Voto confirmado p...|file:///app/data/...|    17256|            44|            147|          0|         1|2022-10-02 08:02:26|             18|\n",
      "|2022-10-02 08:02:57|Voto confirmado p...|file:///app/data/...|    17256|            44|            147|          0|         1|2022-10-02 08:02:44|             13|\n",
      "|2022-10-02 08:03:07|Voto confirmado p...|file:///app/data/...|    17256|            44|            147|          0|         1|2022-10-02 08:02:57|             10|\n",
      "|2022-10-02 08:03:17|Voto confirmado p...|file:///app/data/...|    17256|            44|            147|          0|         1|2022-10-02 08:03:07|             10|\n",
      "|2022-10-02 08:04:37|Eleitor foi habil...|file:///app/data/...|    17256|            44|            147|          0|         2|               NULL|           NULL|\n",
      "|2022-10-02 08:05:08|Voto confirmado p...|file:///app/data/...|    17256|            44|            147|          0|         2|2022-10-02 08:04:37|             31|\n",
      "|2022-10-02 08:05:26|Voto confirmado p...|file:///app/data/...|    17256|            44|            147|          0|         2|2022-10-02 08:05:08|             18|\n",
      "|2022-10-02 08:05:37|Tecla indevida pr...|file:///app/data/...|    17256|            44|            147|          1|         2|2022-10-02 08:05:26|             11|\n",
      "|2022-10-02 08:07:24|Tecla indevida pr...|file:///app/data/...|    17256|            44|            147|          2|         2|2022-10-02 08:05:37|            107|\n",
      "|2022-10-02 08:07:58|Voto confirmado p...|file:///app/data/...|    17256|            44|            147|          2|         2|2022-10-02 08:07:24|             34|\n",
      "|2022-10-02 08:08:06|Tecla indevida pr...|file:///app/data/...|    17256|            44|            147|          3|         2|2022-10-02 08:07:58|              8|\n",
      "|2022-10-02 08:08:08|Voto confirmado p...|file:///app/data/...|    17256|            44|            147|          3|         2|2022-10-02 08:08:06|              2|\n",
      "|2022-10-02 08:08:16|Tecla indevida pr...|file:///app/data/...|    17256|            44|            147|          4|         2|2022-10-02 08:08:08|              8|\n",
      "|2022-10-02 08:08:18|Voto confirmado p...|file:///app/data/...|    17256|            44|            147|          4|         2|2022-10-02 08:08:16|              2|\n",
      "|2022-10-02 08:11:39|Eleitor foi habil...|file:///app/data/...|    17256|            44|            147|          0|         3|               NULL|           NULL|\n",
      "|2022-10-02 08:12:00|Voto confirmado p...|file:///app/data/...|    17256|            44|            147|          0|         3|2022-10-02 08:11:39|             21|\n",
      "|2022-10-02 08:12:13|Voto confirmado p...|file:///app/data/...|    17256|            44|            147|          0|         3|2022-10-02 08:12:00|             13|\n",
      "|2022-10-02 08:12:23|Voto confirmado p...|file:///app/data/...|    17256|            44|            147|          0|         3|2022-10-02 08:12:13|             10|\n",
      "+-------------------+--------------------+--------------------+---------+--------------+---------------+-----------+----------+-------------------+---------------+\n",
      "only showing top 20 rows\n",
      "\n"
     ]
    }
   ],
   "source": [
    "df_tempo_segundos.show()"
   ]
  },
  {
   "cell_type": "code",
   "execution_count": 41,
   "metadata": {},
   "outputs": [
    {
     "name": "stderr",
     "output_type": "stream",
     "text": [
      "                                                                                \r"
     ]
    }
   ],
   "source": [
    "df_tempo_segundos.write.mode('overwrite').parquet(DATA_PATH+\"dados_tratados.parquet\")"
   ]
  },
  {
   "cell_type": "code",
   "execution_count": null,
   "metadata": {},
   "outputs": [],
   "source": [
    "sc.stop()"
   ]
  }
 ],
 "metadata": {
  "kernelspec": {
   "display_name": "base",
   "language": "python",
   "name": "python3"
  },
  "language_info": {
   "codemirror_mode": {
    "name": "ipython",
    "version": 3
   },
   "file_extension": ".py",
   "mimetype": "text/x-python",
   "name": "python",
   "nbconvert_exporter": "python",
   "pygments_lexer": "ipython3",
   "version": "3.11.5"
  }
 },
 "nbformat": 4,
 "nbformat_minor": 2
}

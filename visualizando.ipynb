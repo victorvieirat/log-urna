{
 "cells": [
  {
   "cell_type": "code",
   "execution_count": 2,
   "metadata": {},
   "outputs": [
    {
     "name": "stderr",
     "output_type": "stream",
     "text": [
      "Setting default log level to \"WARN\".\n",
      "To adjust logging level use sc.setLogLevel(newLevel). For SparkR, use setLogLevel(newLevel).\n",
      "24/03/18 13:38:33 WARN NativeCodeLoader: Unable to load native-hadoop library for your platform... using builtin-java classes where applicable\n"
     ]
    }
   ],
   "source": [
    "from pyspark.sql import SparkSession \n",
    "\n",
    "sc = SparkSession.builder.appName(\"Visualizando\").config(\"spark.driver.memory\", \"8g\").getOrCreate()"
   ]
  },
  {
   "cell_type": "code",
   "execution_count": 3,
   "metadata": {},
   "outputs": [
    {
     "name": "stderr",
     "output_type": "stream",
     "text": [
      "                                                                                \r"
     ]
    },
    {
     "name": "stdout",
     "output_type": "stream",
     "text": [
      "+--------------------+----------+-------------------+------------------+---------+--------------+---------------+---------------+----------------+---------------+\n",
      "|             arquivo|id_eleitor|               data|         descricao|Municipio|Zona_Eleitoral|Secao_Eleitoral|erros_ate_agora|sum(erros_tecla)|tempo(segundos)|\n",
      "+--------------------+----------+-------------------+------------------+---------+--------------+---------------+---------------+----------------+---------------+\n",
      "|file:///app/data/...|        11|2022-10-02 08:42:46|  Deputado Federal|    16004|            21|             16|              0|               0|             28|\n",
      "|file:///app/data/...|        11|2022-10-02 08:43:04| Deputado Estadual|    16004|            21|             16|              0|               0|             18|\n",
      "|file:///app/data/...|        11|2022-10-02 08:43:16|           Senador|    16004|            21|             16|              0|               0|             12|\n",
      "|file:///app/data/...|        11|2022-10-02 08:43:25|        Governador|    16004|            21|             16|              0|               0|              9|\n",
      "|file:///app/data/...|        11|2022-10-02 08:43:32|        Presidente|    16004|            21|             16|              0|               0|              7|\n",
      "|file:///app/data/...|        26|2022-10-02 09:37:45|  Deputado Federal|    16004|            21|             16|              0|               2|             74|\n",
      "|file:///app/data/...|        26|2022-10-02 09:38:14| Deputado Estadual|    16004|            21|             16|              0|               2|             29|\n",
      "|file:///app/data/...|        26|2022-10-02 09:40:21|           Senador|    16004|            21|             16|              2|               2|            127|\n",
      "|file:///app/data/...|        26|2022-10-02 09:40:43|        Governador|    16004|            21|             16|              2|               2|             22|\n",
      "|file:///app/data/...|        26|2022-10-02 09:40:53|        Presidente|    16004|            21|             16|              2|               2|             10|\n",
      "|file:///app/data/...|        30|2022-10-02 09:53:03|  Deputado Federal|    16004|            21|             16|              0|               3|             50|\n",
      "|file:///app/data/...|        30|2022-10-02 09:53:20| Deputado Estadual|    16004|            21|             16|              0|               3|             17|\n",
      "|file:///app/data/...|        30|2022-10-02 09:53:42|           Senador|    16004|            21|             16|              0|               3|             22|\n",
      "|file:///app/data/...|        30|2022-10-02 09:55:49|        Governador|    16004|            21|             16|              3|               3|            127|\n",
      "|file:///app/data/...|        30|2022-10-02 09:56:00|        Presidente|    16004|            21|             16|              3|               3|             11|\n",
      "|file:///app/data/...|        38|2022-10-02 10:18:13|  Deputado Federal|    16004|            21|             16|              0|               0|             25|\n",
      "|file:///app/data/...|        38|2022-10-02 10:18:33| Deputado Estadual|    16004|            21|             16|              0|               0|             20|\n",
      "|file:///app/data/...|        38|2022-10-02 10:18:53|           Senador|    16004|            21|             16|              0|               0|             20|\n",
      "|file:///app/data/...|        38|2022-10-02 10:19:03|        Governador|    16004|            21|             16|              0|               0|             10|\n",
      "|file:///app/data/...|        38|2022-10-02 10:19:16|        Presidente|    16004|            21|             16|              0|               0|             13|\n",
      "+--------------------+----------+-------------------+------------------+---------+--------------+---------------+---------------+----------------+---------------+\n",
      "only showing top 20 rows\n",
      "\n"
     ]
    }
   ],
   "source": [
    "import pyspark.sql.functions as F\n",
    "\n",
    "DATA_PATH = \"/app/data/\"\n",
    "input_file = DATA_PATH+\"dados_log_urna/\" \n",
    "\n",
    "df = sc.read.parquet(input_file)\n",
    "\n",
    "df.show()"
   ]
  },
  {
   "cell_type": "code",
   "execution_count": 4,
   "metadata": {},
   "outputs": [
    {
     "name": "stderr",
     "output_type": "stream",
     "text": [
      "                                                                                \r"
     ]
    },
    {
     "name": "stdout",
     "output_type": "stream",
     "text": [
      "+--------------------+----------+-------------------+------------------+---------+--------------+---------------+---------------+----------------+---------------+\n",
      "|             arquivo|id_eleitor|               data|         descricao|Municipio|Zona_Eleitoral|Secao_Eleitoral|erros_ate_agora|sum(erros_tecla)|tempo(segundos)|\n",
      "+--------------------+----------+-------------------+------------------+---------+--------------+---------------+---------------+----------------+---------------+\n",
      "|file:///app/data/...|        22|2022-10-02 09:33:05|        Governador|    17817|            12|            175|            480|             482|            299|\n",
      "|file:///app/data/...|        22|2022-10-02 09:15:47|  Deputado Federal|    17817|            12|            175|             59|             482|            311|\n",
      "|file:///app/data/...|        22|2022-10-02 09:21:35| Deputado Estadual|    17817|            12|            175|            168|             482|            348|\n",
      "|file:///app/data/...|        22|2022-10-02 09:28:06|           Senador|    17817|            12|            175|            348|             482|            391|\n",
      "|file:///app/data/...|        22|2022-10-02 09:33:27|        Presidente|    17817|            12|            175|            482|             482|             22|\n",
      "|file:///app/data/...|         5|2022-10-02 08:17:05|  Deputado Federal|    18538|            27|             78|              1|             382|             49|\n",
      "|file:///app/data/...|         5|2022-10-02 08:35:25| Deputado Estadual|    18538|            27|             78|            330|             382|           1100|\n",
      "|file:///app/data/...|         5|2022-10-02 08:37:36|           Senador|    18538|            27|             78|            381|             382|            131|\n",
      "|file:///app/data/...|         5|2022-10-02 08:37:53|        Governador|    18538|            27|             78|            382|             382|             17|\n",
      "|file:///app/data/...|         5|2022-10-02 08:38:18|        Presidente|    18538|            27|             78|            382|             382|             25|\n",
      "|file:///app/data/...|        48|2022-10-02 10:25:36|  Deputado Federal|    17590|            33|            275|             80|             358|            561|\n",
      "|file:///app/data/...|        48|2022-10-02 10:25:54| Deputado Estadual|    17590|            33|            275|             82|             358|             18|\n",
      "|file:///app/data/...|        48|2022-10-02 10:33:02|           Senador|    17590|            33|            275|            312|             358|            428|\n",
      "|file:///app/data/...|        48|2022-10-02 10:33:29|        Governador|    17590|            33|            275|            331|             358|             27|\n",
      "|file:///app/data/...|        48|2022-10-02 10:33:55|        Presidente|    17590|            33|            275|            358|             358|             26|\n",
      "|file:///app/data/...|       173|2022-10-02 15:01:07|  Deputado Federal|    16837|            49|             80|            102|             355|            215|\n",
      "|file:///app/data/...|       173|2022-10-02 15:10:17| Deputado Estadual|    16837|            49|             80|            190|             355|            550|\n",
      "|file:///app/data/...|       173|2022-10-02 15:10:48|           Senador|    16837|            49|             80|            196|             355|             31|\n",
      "|file:///app/data/...|       173|2022-10-02 15:18:05|        Governador|    16837|            49|             80|            280|             355|            437|\n",
      "|file:///app/data/...|       173|2022-10-02 15:26:15|        Presidente|    16837|            49|             80|            355|             355|            490|\n",
      "+--------------------+----------+-------------------+------------------+---------+--------------+---------------+---------------+----------------+---------------+\n",
      "only showing top 20 rows\n",
      "\n"
     ]
    }
   ],
   "source": [
    "df.sort(F.desc(\"sum(erros_tecla)\")).show()"
   ]
  },
  {
   "cell_type": "code",
   "execution_count": 5,
   "metadata": {},
   "outputs": [
    {
     "name": "stderr",
     "output_type": "stream",
     "text": [
      "[Stage 3:====================================================>    (12 + 1) / 13]\r"
     ]
    },
    {
     "name": "stdout",
     "output_type": "stream",
     "text": [
      "+--------------------+----------+---------------------+\n",
      "|             arquivo|id_eleitor|max(sum(erros_tecla))|\n",
      "+--------------------+----------+---------------------+\n",
      "|file:///app/data/...|        47|                    2|\n",
      "|file:///app/data/...|       170|                    4|\n",
      "|file:///app/data/...|        24|                    0|\n",
      "|file:///app/data/...|       119|                    0|\n",
      "|file:///app/data/...|       265|                    0|\n",
      "|file:///app/data/...|        56|                    0|\n",
      "|file:///app/data/...|       177|                    0|\n",
      "|file:///app/data/...|        93|                    3|\n",
      "|file:///app/data/...|        48|                    1|\n",
      "|file:///app/data/...|       155|                    2|\n",
      "|file:///app/data/...|        45|                    3|\n",
      "|file:///app/data/...|       191|                    0|\n",
      "|file:///app/data/...|         4|                    8|\n",
      "|file:///app/data/...|        16|                    4|\n",
      "|file:///app/data/...|       249|                    0|\n",
      "|file:///app/data/...|        86|                    1|\n",
      "|file:///app/data/...|       128|                    2|\n",
      "|file:///app/data/...|       201|                    0|\n",
      "|file:///app/data/...|        45|                    1|\n",
      "|file:///app/data/...|        59|                    1|\n",
      "+--------------------+----------+---------------------+\n",
      "only showing top 20 rows\n",
      "\n"
     ]
    },
    {
     "name": "stderr",
     "output_type": "stream",
     "text": [
      "                                                                                \r"
     ]
    }
   ],
   "source": [
    "max_values = df.groupBy(\"arquivo\", \"id_eleitor\").max(\"sum(erros_tecla)\")\n",
    "max_values.show()"
   ]
  },
  {
   "cell_type": "code",
   "execution_count": 6,
   "metadata": {},
   "outputs": [
    {
     "name": "stderr",
     "output_type": "stream",
     "text": [
      "                                                                                \r"
     ]
    },
    {
     "data": {
      "text/html": [
       "<div>\n",
       "<style scoped>\n",
       "    .dataframe tbody tr th:only-of-type {\n",
       "        vertical-align: middle;\n",
       "    }\n",
       "\n",
       "    .dataframe tbody tr th {\n",
       "        vertical-align: top;\n",
       "    }\n",
       "\n",
       "    .dataframe thead th {\n",
       "        text-align: right;\n",
       "    }\n",
       "</style>\n",
       "<table border=\"1\" class=\"dataframe\">\n",
       "  <thead>\n",
       "    <tr style=\"text-align: right;\">\n",
       "      <th></th>\n",
       "      <th>arquivo</th>\n",
       "      <th>id_eleitor</th>\n",
       "      <th>max_erros</th>\n",
       "    </tr>\n",
       "  </thead>\n",
       "  <tbody>\n",
       "    <tr>\n",
       "      <th>0</th>\n",
       "      <td>file:///app/data/decodificado/o00406-160040021...</td>\n",
       "      <td>47</td>\n",
       "      <td>2</td>\n",
       "    </tr>\n",
       "    <tr>\n",
       "      <th>1</th>\n",
       "      <td>file:///app/data/decodificado/o00406-160040021...</td>\n",
       "      <td>170</td>\n",
       "      <td>4</td>\n",
       "    </tr>\n",
       "    <tr>\n",
       "      <th>2</th>\n",
       "      <td>file:///app/data/decodificado/o00406-160040021...</td>\n",
       "      <td>24</td>\n",
       "      <td>0</td>\n",
       "    </tr>\n",
       "    <tr>\n",
       "      <th>3</th>\n",
       "      <td>file:///app/data/decodificado/o00406-160040021...</td>\n",
       "      <td>119</td>\n",
       "      <td>0</td>\n",
       "    </tr>\n",
       "    <tr>\n",
       "      <th>4</th>\n",
       "      <td>file:///app/data/decodificado/o00406-160040021...</td>\n",
       "      <td>265</td>\n",
       "      <td>0</td>\n",
       "    </tr>\n",
       "    <tr>\n",
       "      <th>...</th>\n",
       "      <td>...</td>\n",
       "      <td>...</td>\n",
       "      <td>...</td>\n",
       "    </tr>\n",
       "    <tr>\n",
       "      <th>2082090</th>\n",
       "      <td>file:///app/data/decodificado/o00406-300310058...</td>\n",
       "      <td>155</td>\n",
       "      <td>6</td>\n",
       "    </tr>\n",
       "    <tr>\n",
       "      <th>2082091</th>\n",
       "      <td>file:///app/data/decodificado/o00406-300310058...</td>\n",
       "      <td>207</td>\n",
       "      <td>1</td>\n",
       "    </tr>\n",
       "    <tr>\n",
       "      <th>2082092</th>\n",
       "      <td>file:///app/data/decodificado/o00406-300310058...</td>\n",
       "      <td>4</td>\n",
       "      <td>1</td>\n",
       "    </tr>\n",
       "    <tr>\n",
       "      <th>2082093</th>\n",
       "      <td>file:///app/data/decodificado/o00406-300310058...</td>\n",
       "      <td>117</td>\n",
       "      <td>1</td>\n",
       "    </tr>\n",
       "    <tr>\n",
       "      <th>2082094</th>\n",
       "      <td>file:///app/data/decodificado/o00406-300310058...</td>\n",
       "      <td>11</td>\n",
       "      <td>4</td>\n",
       "    </tr>\n",
       "  </tbody>\n",
       "</table>\n",
       "<p>2082095 rows × 3 columns</p>\n",
       "</div>"
      ],
      "text/plain": [
       "                                                   arquivo  id_eleitor  \\\n",
       "0        file:///app/data/decodificado/o00406-160040021...          47   \n",
       "1        file:///app/data/decodificado/o00406-160040021...         170   \n",
       "2        file:///app/data/decodificado/o00406-160040021...          24   \n",
       "3        file:///app/data/decodificado/o00406-160040021...         119   \n",
       "4        file:///app/data/decodificado/o00406-160040021...         265   \n",
       "...                                                    ...         ...   \n",
       "2082090  file:///app/data/decodificado/o00406-300310058...         155   \n",
       "2082091  file:///app/data/decodificado/o00406-300310058...         207   \n",
       "2082092  file:///app/data/decodificado/o00406-300310058...           4   \n",
       "2082093  file:///app/data/decodificado/o00406-300310058...         117   \n",
       "2082094  file:///app/data/decodificado/o00406-300310058...          11   \n",
       "\n",
       "         max_erros  \n",
       "0                2  \n",
       "1                4  \n",
       "2                0  \n",
       "3                0  \n",
       "4                0  \n",
       "...            ...  \n",
       "2082090          6  \n",
       "2082091          1  \n",
       "2082092          1  \n",
       "2082093          1  \n",
       "2082094          4  \n",
       "\n",
       "[2082095 rows x 3 columns]"
      ]
     },
     "execution_count": 6,
     "metadata": {},
     "output_type": "execute_result"
    }
   ],
   "source": [
    "erros = max_values.toPandas()\n",
    "erros.columns = [\"arquivo\",\"id_eleitor\",\"max_erros\"]\n",
    "erros"
   ]
  },
  {
   "cell_type": "code",
   "execution_count": 7,
   "metadata": {},
   "outputs": [
    {
     "data": {
      "text/plain": [
       "count    2.082095e+06\n",
       "mean     1.850055e+00\n",
       "std      3.759905e+00\n",
       "min      0.000000e+00\n",
       "25%      0.000000e+00\n",
       "50%      1.000000e+00\n",
       "75%      2.000000e+00\n",
       "max      4.820000e+02\n",
       "Name: max_erros, dtype: float64"
      ]
     },
     "execution_count": 7,
     "metadata": {},
     "output_type": "execute_result"
    }
   ],
   "source": [
    "erros[\"max_erros\"].describe()"
   ]
  },
  {
   "cell_type": "code",
   "execution_count": 21,
   "metadata": {},
   "outputs": [
    {
     "data": {
      "image/png": "[encoded data removed]",
      "text/plain": [
       "<Figure size 1000x600 with 1 Axes>"
      ]
     },
     "metadata": {},
     "output_type": "display_data"
    }
   ],
   "source": [
    "import pandas as pd\n",
    "import matplotlib.pyplot as plt\n",
    "\n",
    "# Create the violin plot\n",
    "plt.style.use('fivethirtyeight')\n",
    "plt.figure(figsize=(10, 6))\n",
    "plt.boxplot(erros[\"max_erros\"],showfliers = False)\n",
    "#plt.xlabel(\"Erros\")\n",
    "#plt.ylabel(\"Values\")\n",
    "plt.title(\"Distribuição de erros por eleitor (sem outlier)\")\n",
    "plt.grid(True)\n",
    "plt.savefig('app/img/box_sem_outlier.jpg', format='jpg')\n",
    "plt.show()\n"
   ]
  },
  {
   "cell_type": "code",
   "execution_count": 23,
   "metadata": {},
   "outputs": [
    {
     "data": {
      "image/png": "[encoded data removed]",
      "text/plain": [
       "<Figure size 1000x600 with 1 Axes>"
      ]
     },
     "metadata": {},
     "output_type": "display_data"
    }
   ],
   "source": [
    "plt.style.use('fivethirtyeight')\n",
    "plt.figure(figsize=(10, 6))\n",
    "plt.boxplot(erros[\"max_erros\"],showfliers = True)\n",
    "#plt.xlabel(\"Erros\")\n",
    "#plt.ylabel(\"Values\")\n",
    "plt.title(\"Distribuição de erros por eleitor (com outlier)\")\n",
    "plt.grid(True)\n",
    "plt.savefig('app/img/box_com_outlier.jpg', format='jpg')\n",
    "plt.show()\n"
   ]
  },
  {
   "cell_type": "code",
   "execution_count": 9,
   "metadata": {},
   "outputs": [],
   "source": [
    "#sc.stop()"
   ]
  }
 ],
 "metadata": {
  "kernelspec": {
   "display_name": "base",
   "language": "python",
   "name": "python3"
  },
  "language_info": {
   "codemirror_mode": {
    "name": "ipython",
    "version": 3
   },
   "file_extension": ".py",
   "mimetype": "text/x-python",
   "name": "python",
   "nbconvert_exporter": "python",
   "pygments_lexer": "ipython3",
   "version": "3.11.5"
  }
 },
 "nbformat": 4,
 "nbformat_minor": 2
}

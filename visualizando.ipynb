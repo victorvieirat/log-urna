{
 "cells": [
  {
   "cell_type": "code",
   "execution_count": 4,
   "metadata": {},
   "outputs": [],
   "source": [
    "from pyspark.sql import SparkSession \n",
    "\n",
    "sc = SparkSession.builder.appName(\"Visualizando\").config(\"spark.driver.memory\", \"8g\").getOrCreate()\n"
   ]
  },
  {
   "cell_type": "code",
   "execution_count": 5,
   "metadata": {},
   "outputs": [
    {
     "name": "stderr",
     "output_type": "stream",
     "text": [
      "[Stage 6:>                                                          (0 + 1) / 1]\r"
     ]
    },
    {
     "name": "stdout",
     "output_type": "stream",
     "text": [
      "+--------------------+----------+-------------------+------------------+---------+--------------+---------------+---------------+----------------+---------------+\n",
      "|             arquivo|id_eleitor|               data|         descricao|Municipio|Zona_Eleitoral|Secao_Eleitoral|erros_ate_agora|sum(erros_tecla)|tempo(segundos)|\n",
      "+--------------------+----------+-------------------+------------------+---------+--------------+---------------+---------------+----------------+---------------+\n",
      "|file:///app/data/...|        11|2022-10-02 08:42:46|  Deputado Federal|    16004|            21|             16|              0|               0|             28|\n",
      "|file:///app/data/...|        11|2022-10-02 08:43:04| Deputado Estadual|    16004|            21|             16|              0|               0|             18|\n",
      "|file:///app/data/...|        11|2022-10-02 08:43:16|           Senador|    16004|            21|             16|              0|               0|             12|\n",
      "|file:///app/data/...|        11|2022-10-02 08:43:25|        Governador|    16004|            21|             16|              0|               0|              9|\n",
      "|file:///app/data/...|        11|2022-10-02 08:43:32|        Presidente|    16004|            21|             16|              0|               0|              7|\n",
      "|file:///app/data/...|        26|2022-10-02 09:37:45|  Deputado Federal|    16004|            21|             16|              0|               2|             74|\n",
      "|file:///app/data/...|        26|2022-10-02 09:38:14| Deputado Estadual|    16004|            21|             16|              0|               2|             29|\n",
      "|file:///app/data/...|        26|2022-10-02 09:40:21|           Senador|    16004|            21|             16|              2|               2|            127|\n",
      "|file:///app/data/...|        26|2022-10-02 09:40:43|        Governador|    16004|            21|             16|              2|               2|             22|\n",
      "|file:///app/data/...|        26|2022-10-02 09:40:53|        Presidente|    16004|            21|             16|              2|               2|             10|\n",
      "|file:///app/data/...|        30|2022-10-02 09:53:03|  Deputado Federal|    16004|            21|             16|              0|               3|             50|\n",
      "|file:///app/data/...|        30|2022-10-02 09:53:20| Deputado Estadual|    16004|            21|             16|              0|               3|             17|\n",
      "|file:///app/data/...|        30|2022-10-02 09:53:42|           Senador|    16004|            21|             16|              0|               3|             22|\n",
      "|file:///app/data/...|        30|2022-10-02 09:55:49|        Governador|    16004|            21|             16|              3|               3|            127|\n",
      "|file:///app/data/...|        30|2022-10-02 09:56:00|        Presidente|    16004|            21|             16|              3|               3|             11|\n",
      "|file:///app/data/...|        38|2022-10-02 10:18:13|  Deputado Federal|    16004|            21|             16|              0|               0|             25|\n",
      "|file:///app/data/...|        38|2022-10-02 10:18:33| Deputado Estadual|    16004|            21|             16|              0|               0|             20|\n",
      "|file:///app/data/...|        38|2022-10-02 10:18:53|           Senador|    16004|            21|             16|              0|               0|             20|\n",
      "|file:///app/data/...|        38|2022-10-02 10:19:03|        Governador|    16004|            21|             16|              0|               0|             10|\n",
      "|file:///app/data/...|        38|2022-10-02 10:19:16|        Presidente|    16004|            21|             16|              0|               0|             13|\n",
      "+--------------------+----------+-------------------+------------------+---------+--------------+---------------+---------------+----------------+---------------+\n",
      "only showing top 20 rows\n",
      "\n"
     ]
    },
    {
     "name": "stderr",
     "output_type": "stream",
     "text": [
      "                                                                                \r"
     ]
    }
   ],
   "source": [
    "import pyspark.sql.functions as F\n",
    "\n",
    "DATA_PATH = \"/app/data/\"\n",
    "input_file = DATA_PATH+\"dados_log_urna/\" \n",
    "\n",
    "df = sc.read.parquet(input_file)\n",
    "\n",
    "df.show()"
   ]
  },
  {
   "cell_type": "code",
   "execution_count": 21,
   "metadata": {},
   "outputs": [
    {
     "name": "stderr",
     "output_type": "stream",
     "text": [
      "                                                                                \r"
     ]
    },
    {
     "name": "stdout",
     "output_type": "stream",
     "text": [
      "+--------------------+----------+-------------------+------------------+---------+--------------+---------------+---------------+----------------+---------------+\n",
      "|             arquivo|id_eleitor|               data|         descricao|Municipio|Zona_Eleitoral|Secao_Eleitoral|erros_ate_agora|sum(erros_tecla)|tempo(segundos)|\n",
      "+--------------------+----------+-------------------+------------------+---------+--------------+---------------+---------------+----------------+---------------+\n",
      "|file:///app/data/...|        22|2022-10-02 09:33:05|        Governador|    17817|            12|            175|            480|             482|            299|\n",
      "|file:///app/data/...|        22|2022-10-02 09:15:47|  Deputado Federal|    17817|            12|            175|             59|             482|            311|\n",
      "|file:///app/data/...|        22|2022-10-02 09:21:35| Deputado Estadual|    17817|            12|            175|            168|             482|            348|\n",
      "|file:///app/data/...|        22|2022-10-02 09:28:06|           Senador|    17817|            12|            175|            348|             482|            391|\n",
      "|file:///app/data/...|        22|2022-10-02 09:33:27|        Presidente|    17817|            12|            175|            482|             482|             22|\n",
      "|file:///app/data/...|         5|2022-10-02 08:17:05|  Deputado Federal|    18538|            27|             78|              1|             382|             49|\n",
      "|file:///app/data/...|         5|2022-10-02 08:35:25| Deputado Estadual|    18538|            27|             78|            330|             382|           1100|\n",
      "|file:///app/data/...|         5|2022-10-02 08:37:36|           Senador|    18538|            27|             78|            381|             382|            131|\n",
      "|file:///app/data/...|         5|2022-10-02 08:37:53|        Governador|    18538|            27|             78|            382|             382|             17|\n",
      "|file:///app/data/...|         5|2022-10-02 08:38:18|        Presidente|    18538|            27|             78|            382|             382|             25|\n",
      "|file:///app/data/...|        48|2022-10-02 10:25:36|  Deputado Federal|    17590|            33|            275|             80|             358|            561|\n",
      "|file:///app/data/...|        48|2022-10-02 10:25:54| Deputado Estadual|    17590|            33|            275|             82|             358|             18|\n",
      "|file:///app/data/...|        48|2022-10-02 10:33:02|           Senador|    17590|            33|            275|            312|             358|            428|\n",
      "|file:///app/data/...|        48|2022-10-02 10:33:29|        Governador|    17590|            33|            275|            331|             358|             27|\n",
      "|file:///app/data/...|        48|2022-10-02 10:33:55|        Presidente|    17590|            33|            275|            358|             358|             26|\n",
      "|file:///app/data/...|       173|2022-10-02 15:01:07|  Deputado Federal|    16837|            49|             80|            102|             355|            215|\n",
      "|file:///app/data/...|       173|2022-10-02 15:10:17| Deputado Estadual|    16837|            49|             80|            190|             355|            550|\n",
      "|file:///app/data/...|       173|2022-10-02 15:10:48|           Senador|    16837|            49|             80|            196|             355|             31|\n",
      "|file:///app/data/...|       173|2022-10-02 15:18:05|        Governador|    16837|            49|             80|            280|             355|            437|\n",
      "|file:///app/data/...|       173|2022-10-02 15:26:15|        Presidente|    16837|            49|             80|            355|             355|            490|\n",
      "+--------------------+----------+-------------------+------------------+---------+--------------+---------------+---------------+----------------+---------------+\n",
      "only showing top 20 rows\n",
      "\n"
     ]
    }
   ],
   "source": [
    "df.sort(F.desc(\"sum(erros_tecla)\")).show()"
   ]
  },
  {
   "cell_type": "code",
   "execution_count": 11,
   "metadata": {},
   "outputs": [
    {
     "name": "stderr",
     "output_type": "stream",
     "text": [
      "[Stage 10:===================================================>    (12 + 1) / 13]\r"
     ]
    },
    {
     "name": "stdout",
     "output_type": "stream",
     "text": [
      "+--------------------+----------+---------------------+\n",
      "|             arquivo|id_eleitor|max(sum(erros_tecla))|\n",
      "+--------------------+----------+---------------------+\n",
      "|file:///app/data/...|        47|                    2|\n",
      "|file:///app/data/...|       170|                    4|\n",
      "|file:///app/data/...|        24|                    0|\n",
      "|file:///app/data/...|       119|                    0|\n",
      "|file:///app/data/...|       265|                    0|\n",
      "|file:///app/data/...|        56|                    0|\n",
      "|file:///app/data/...|       177|                    0|\n",
      "|file:///app/data/...|        93|                    3|\n",
      "|file:///app/data/...|        48|                    1|\n",
      "|file:///app/data/...|       155|                    2|\n",
      "|file:///app/data/...|        45|                    3|\n",
      "|file:///app/data/...|       191|                    0|\n",
      "|file:///app/data/...|         4|                    8|\n",
      "|file:///app/data/...|        16|                    4|\n",
      "|file:///app/data/...|       249|                    0|\n",
      "|file:///app/data/...|        86|                    1|\n",
      "|file:///app/data/...|       128|                    2|\n",
      "|file:///app/data/...|       201|                    0|\n",
      "|file:///app/data/...|        45|                    1|\n",
      "|file:///app/data/...|        59|                    1|\n",
      "+--------------------+----------+---------------------+\n",
      "only showing top 20 rows\n",
      "\n"
     ]
    },
    {
     "name": "stderr",
     "output_type": "stream",
     "text": [
      "                                                                                \r"
     ]
    }
   ],
   "source": [
    "max_values = df.groupBy(\"arquivo\", \"id_eleitor\").max(\"sum(erros_tecla)\")\n",
    "max_values.show()"
   ]
  },
  {
   "cell_type": "code",
   "execution_count": 16,
   "metadata": {},
   "outputs": [
    {
     "name": "stderr",
     "output_type": "stream",
     "text": [
      "                                                                                \r"
     ]
    },
    {
     "data": {
      "text/plain": [
       "array([2, 4, 0, ..., 1, 1, 4])"
      ]
     },
     "execution_count": 16,
     "metadata": {},
     "output_type": "execute_result"
    }
   ],
   "source": [
    "import numpy as np\n",
    "erros = np.array(max_values.select(\"max(sum(erros_tecla))\").collect()).reshape(-1)\n",
    "erros"
   ]
  },
  {
   "cell_type": "code",
   "execution_count": 19,
   "metadata": {},
   "outputs": [
    {
     "data": {
      "image/png": "[encoded data removed]",
      "text/plain": [
       "<Figure size 1000x600 with 1 Axes>"
      ]
     },
     "metadata": {},
     "output_type": "display_data"
    }
   ],
   "source": [
    "import pandas as pd\n",
    "import matplotlib.pyplot as plt\n",
    "\n",
    "# Create the violin plot\n",
    "plt.figure(figsize=(10, 6))\n",
    "plt.violinplot(erros)\n",
    "#plt.xlabel(\"Group\")\n",
    "#plt.ylabel(\"Values\")\n",
    "#plt.title(\"Violin Plot of Values by Group\")\n",
    "plt.grid(True)\n",
    "plt.show()\n"
   ]
  }
 ],
 "metadata": {
  "kernelspec": {
   "display_name": "base",
   "language": "python",
   "name": "python3"
  },
  "language_info": {
   "codemirror_mode": {
    "name": "ipython",
    "version": 3
   },
   "file_extension": ".py",
   "mimetype": "text/x-python",
   "name": "python",
   "nbconvert_exporter": "python",
   "pygments_lexer": "ipython3",
   "version": "3.11.5"
  }
 },
 "nbformat": 4,
 "nbformat_minor": 2
}

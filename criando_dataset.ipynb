{
 "cells": [
  {
   "cell_type": "code",
   "execution_count": 1,
   "metadata": {},
   "outputs": [
    {
     "name": "stderr",
     "output_type": "stream",
     "text": [
      "Setting default log level to \"WARN\".\n",
      "To adjust logging level use sc.setLogLevel(newLevel). For SparkR, use setLogLevel(newLevel).\n",
      "24/03/22 01:26:24 WARN NativeCodeLoader: Unable to load native-hadoop library for your platform... using builtin-java classes where applicable\n"
     ]
    }
   ],
   "source": [
    "from pyspark.sql import SparkSession \n",
    "\n",
    "sc = SparkSession.builder.appName(\"DataFrame\").config(\"spark.driver.memory\", \"8g\").getOrCreate()\n"
   ]
  },
  {
   "cell_type": "code",
   "execution_count": 2,
   "metadata": {},
   "outputs": [],
   "source": [
    "logs_interesse = [\n",
    "    \"Eleitor foi habilitado\",\n",
    "    \"Voto confirmado para [Deputado Federal]\",\n",
    "    \"Voto confirmado para [Deputado Estadual]\",\n",
    "    \"Voto confirmado para [Senador]\",\n",
    "    \"Voto confirmado para [Governador]\",\n",
    "    \"Voto confirmado para [Presidente]\",\n",
    "    \"Tecla indevida pressionada\",\n",
    "]\n",
    "regex_interesse = [\n",
    "    \"Município:\",\n",
    "    \"Zona Eleitoral:\",\n",
    "    \"Local de Votação:\",\n",
    "    \"Seção Eleitoral:\",\n",
    "]\n",
    "regex_interesse = \"|\".join(regex_interesse)"
   ]
  },
  {
   "cell_type": "code",
   "execution_count": 3,
   "metadata": {},
   "outputs": [
    {
     "name": "stderr",
     "output_type": "stream",
     "text": [
      "                                                                                \r"
     ]
    }
   ],
   "source": [
    "import pyspark.sql.functions as F\n",
    "\n",
    "DATA_PATH = \"/app/data/\"\n",
    "input_file = DATA_PATH+\"decodificado/*\" \n",
    "\n",
    "source = sc.read.csv(input_file, sep=\"\\t\", header=False)\n",
    "source = source.withColumn(\"arquivo\", F.input_file_name())"
   ]
  },
  {
   "cell_type": "code",
   "execution_count": 4,
   "metadata": {},
   "outputs": [
    {
     "data": {
      "text/plain": [
       "'distinto = source.select(\\'arquivo\\').distinct()\\namostra = distinto.sample(False, (100/distinto.count()),seed=1100)\\namostra = amostra.toPandas()[\\'arquivo\\'].values\\nsource =  source.filter(F.col(\"arquivo\").isin(*amostra))\\nprint(f\\'Número de urnas selecionadas {len(amostra)}\\')'"
      ]
     },
     "execution_count": 4,
     "metadata": {},
     "output_type": "execute_result"
    }
   ],
   "source": [
    "\"\"\"distinto = source.select('arquivo').distinct()\n",
    "amostra = distinto.sample(False, (100/distinto.count()),seed=1100)\n",
    "amostra = amostra.toPandas()['arquivo'].values\n",
    "source =  source.filter(F.col(\"arquivo\").isin(*amostra))\n",
    "print(f'Número de urnas selecionadas {len(amostra)}')\"\"\""
   ]
  },
  {
   "cell_type": "code",
   "execution_count": 5,
   "metadata": {},
   "outputs": [
    {
     "name": "stdout",
     "output_type": "stream",
     "text": [
      "+-------------------+----------------------+------------------------------------------------------+\n",
      "|data               |descricao             |arquivo                                               |\n",
      "+-------------------+----------------------+------------------------------------------------------+\n",
      "|2022-09-22 09:36:53|Município: 16039      |file:///app/data/decodificado/o00406-1603900290128.txt|\n",
      "|2022-09-22 09:36:53|Zona Eleitoral: 0029  |file:///app/data/decodificado/o00406-1603900290128.txt|\n",
      "|2022-09-22 09:36:53|Local de Votação: 1082|file:///app/data/decodificado/o00406-1603900290128.txt|\n",
      "|2022-09-22 09:36:53|Seção Eleitoral: 0128 |file:///app/data/decodificado/o00406-1603900290128.txt|\n",
      "|2022-09-22 09:41:29|Município: 16039      |file:///app/data/decodificado/o00406-1603900290128.txt|\n",
      "|2022-09-22 09:41:29|Zona Eleitoral: 0029  |file:///app/data/decodificado/o00406-1603900290128.txt|\n",
      "|2022-09-22 09:41:29|Seção Eleitoral: 0128 |file:///app/data/decodificado/o00406-1603900290128.txt|\n",
      "|2022-09-22 09:50:20|Município: 16039      |file:///app/data/decodificado/o00406-1603900290128.txt|\n",
      "|2022-09-22 09:50:20|Zona Eleitoral: 0029  |file:///app/data/decodificado/o00406-1603900290128.txt|\n",
      "|2022-09-22 09:50:20|Seção Eleitoral: 0128 |file:///app/data/decodificado/o00406-1603900290128.txt|\n",
      "|2022-09-29 11:11:05|Município: 16039      |file:///app/data/decodificado/o00406-1603900290128.txt|\n",
      "|2022-09-29 11:11:05|Zona Eleitoral: 0029  |file:///app/data/decodificado/o00406-1603900290128.txt|\n",
      "|2022-09-29 11:11:05|Seção Eleitoral: 0128 |file:///app/data/decodificado/o00406-1603900290128.txt|\n",
      "|2022-10-01 19:39:26|Município: 16039      |file:///app/data/decodificado/o00406-1603900290128.txt|\n",
      "|2022-10-01 19:39:26|Zona Eleitoral: 0029  |file:///app/data/decodificado/o00406-1603900290128.txt|\n",
      "|2022-10-01 19:39:26|Seção Eleitoral: 0128 |file:///app/data/decodificado/o00406-1603900290128.txt|\n",
      "|2022-10-02 07:14:30|Município: 16039      |file:///app/data/decodificado/o00406-1603900290128.txt|\n",
      "|2022-10-02 07:14:30|Zona Eleitoral: 0029  |file:///app/data/decodificado/o00406-1603900290128.txt|\n",
      "|2022-10-02 07:14:30|Seção Eleitoral: 0128 |file:///app/data/decodificado/o00406-1603900290128.txt|\n",
      "|2022-10-02 08:03:26|Eleitor foi habilitado|file:///app/data/decodificado/o00406-1603900290128.txt|\n",
      "+-------------------+----------------------+------------------------------------------------------+\n",
      "only showing top 20 rows\n",
      "\n"
     ]
    }
   ],
   "source": [
    "df = source.withColumnRenamed(\"_c0\", \"data\").withColumnRenamed(\"_c4\", \"descricao\")\n",
    "df = df.select(\"data\", \"descricao\")\n",
    "df = df.withColumn(\"arquivo\", F.input_file_name())\n",
    "df = df.filter(\n",
    "    F.col(\"descricao\").isin(logs_interesse) | F.col(\"descricao\").rlike(regex_interesse)\n",
    ")\n",
    "\n",
    "df = df.withColumn(\"data\", F.to_timestamp(F.col(\"data\"), \"dd/MM/yyyy HH:mm:ss\"))\n",
    "df.show(truncate=False)"
   ]
  },
  {
   "cell_type": "code",
   "execution_count": 6,
   "metadata": {},
   "outputs": [
    {
     "name": "stderr",
     "output_type": "stream",
     "text": [
      "[Stage 6:>                                                          (0 + 1) / 1]\r"
     ]
    },
    {
     "name": "stdout",
     "output_type": "stream",
     "text": [
      "+-------------------+----------------------+------------------------------------------------------+---------+--------------+---------------+\n",
      "|data               |descricao             |arquivo                                               |Municipio|Zona_Eleitoral|Secao_Eleitoral|\n",
      "+-------------------+----------------------+------------------------------------------------------+---------+--------------+---------------+\n",
      "|2022-09-20 16:44:40|Município: 16004      |file:///app/data/decodificado/o00406-1600400210017.txt|16004    |NULL          |NULL           |\n",
      "|2022-09-20 16:44:40|Zona Eleitoral: 0021  |file:///app/data/decodificado/o00406-1600400210017.txt|16004    |21            |NULL           |\n",
      "|2022-09-20 16:44:40|Local de Votação: 1015|file:///app/data/decodificado/o00406-1600400210017.txt|16004    |21            |NULL           |\n",
      "|2022-09-20 16:44:40|Seção Eleitoral: 0017 |file:///app/data/decodificado/o00406-1600400210017.txt|16004    |21            |17             |\n",
      "|2022-09-20 16:47:56|Município: 16004      |file:///app/data/decodificado/o00406-1600400210017.txt|16004    |21            |17             |\n",
      "|2022-09-20 16:47:56|Zona Eleitoral: 0021  |file:///app/data/decodificado/o00406-1600400210017.txt|16004    |21            |17             |\n",
      "|2022-09-20 16:47:56|Seção Eleitoral: 0017 |file:///app/data/decodificado/o00406-1600400210017.txt|16004    |21            |17             |\n",
      "|2022-09-20 16:54:58|Município: 16004      |file:///app/data/decodificado/o00406-1600400210017.txt|16004    |21            |17             |\n",
      "|2022-09-20 16:54:58|Zona Eleitoral: 0021  |file:///app/data/decodificado/o00406-1600400210017.txt|16004    |21            |17             |\n",
      "|2022-09-20 16:54:58|Seção Eleitoral: 0017 |file:///app/data/decodificado/o00406-1600400210017.txt|16004    |21            |17             |\n",
      "|2022-09-28 09:13:52|Município: 16004      |file:///app/data/decodificado/o00406-1600400210017.txt|16004    |21            |17             |\n",
      "|2022-09-28 09:13:52|Zona Eleitoral: 0021  |file:///app/data/decodificado/o00406-1600400210017.txt|16004    |21            |17             |\n",
      "|2022-09-28 09:13:52|Seção Eleitoral: 0017 |file:///app/data/decodificado/o00406-1600400210017.txt|16004    |21            |17             |\n",
      "|2022-10-01 09:32:20|Município: 16004      |file:///app/data/decodificado/o00406-1600400210017.txt|16004    |21            |17             |\n",
      "|2022-10-01 09:32:20|Zona Eleitoral: 0021  |file:///app/data/decodificado/o00406-1600400210017.txt|16004    |21            |17             |\n",
      "|2022-10-01 09:32:20|Seção Eleitoral: 0017 |file:///app/data/decodificado/o00406-1600400210017.txt|16004    |21            |17             |\n",
      "|2022-10-02 07:38:57|Município: 16004      |file:///app/data/decodificado/o00406-1600400210017.txt|16004    |21            |17             |\n",
      "|2022-10-02 07:38:57|Zona Eleitoral: 0021  |file:///app/data/decodificado/o00406-1600400210017.txt|16004    |21            |17             |\n",
      "|2022-10-02 07:38:58|Seção Eleitoral: 0017 |file:///app/data/decodificado/o00406-1600400210017.txt|16004    |21            |17             |\n",
      "|2022-10-02 08:05:03|Eleitor foi habilitado|file:///app/data/decodificado/o00406-1600400210017.txt|16004    |21            |17             |\n",
      "+-------------------+----------------------+------------------------------------------------------+---------+--------------+---------------+\n",
      "only showing top 20 rows\n",
      "\n"
     ]
    },
    {
     "name": "stderr",
     "output_type": "stream",
     "text": [
      "                                                                                \r"
     ]
    }
   ],
   "source": [
    "from pyspark.sql.window import Window\n",
    "from unidecode import unidecode\n",
    "\n",
    "window = (\n",
    "    Window.orderBy(\"data\")\n",
    "    .partitionBy(\"arquivo\") #Paraleliza pelo arquivo\n",
    "    .rowsBetween(Window.unboundedPreceding, Window.currentRow)\n",
    ")\n",
    "\n",
    "df_window = df\n",
    "for nome_extracao in [\"Município\", \"Zona Eleitoral\", \"Seção Eleitoral\"]:\n",
    "    nome_col = unidecode(nome_extracao).replace(\" \", \"_\")\n",
    "    df_window = df_window.withColumn(\n",
    "        nome_col,\n",
    "        F.when(\n",
    "            F.col(\"descricao\").contains(nome_extracao),\n",
    "            F.regexp_extract(F.col(\"descricao\"), rf\"{nome_extracao}: (\\d+)\", 1).cast(\n",
    "                \"integer\"\n",
    "            ),\n",
    "        ).otherwise(None),\n",
    "    )\n",
    "\n",
    "    df_window = df_window.withColumn(\n",
    "        nome_col, F.last(nome_col, ignorenulls=True).over(window)\n",
    "    )\n",
    "df_window.show(truncate=False)"
   ]
  },
  {
   "cell_type": "code",
   "execution_count": 7,
   "metadata": {},
   "outputs": [
    {
     "name": "stderr",
     "output_type": "stream",
     "text": [
      "[Stage 9:>                                                        (0 + 12) / 13]\r"
     ]
    },
    {
     "name": "stdout",
     "output_type": "stream",
     "text": [
      "+-------------------+----------------------------------------+------------------------------------------------------+---------+--------------+---------------+-----------+----------+\n",
      "|data               |descricao                               |arquivo                                               |Municipio|Zona_Eleitoral|Secao_Eleitoral|erros_tecla|id_eleitor|\n",
      "+-------------------+----------------------------------------+------------------------------------------------------+---------+--------------+---------------+-----------+----------+\n",
      "|2022-10-02 08:01:01|Eleitor foi habilitado                  |file:///app/data/decodificado/o00406-1600400210016.txt|16004    |21            |16             |0          |1         |\n",
      "|2022-10-02 08:01:29|Voto confirmado para [Deputado Federal] |file:///app/data/decodificado/o00406-1600400210016.txt|16004    |21            |16             |0          |1         |\n",
      "|2022-10-02 08:01:47|Voto confirmado para [Deputado Estadual]|file:///app/data/decodificado/o00406-1600400210016.txt|16004    |21            |16             |0          |1         |\n",
      "|2022-10-02 08:02:00|Voto confirmado para [Senador]          |file:///app/data/decodificado/o00406-1600400210016.txt|16004    |21            |16             |0          |1         |\n",
      "|2022-10-02 08:02:08|Voto confirmado para [Governador]       |file:///app/data/decodificado/o00406-1600400210016.txt|16004    |21            |16             |0          |1         |\n",
      "|2022-10-02 08:02:15|Voto confirmado para [Presidente]       |file:///app/data/decodificado/o00406-1600400210016.txt|16004    |21            |16             |0          |1         |\n",
      "|2022-10-02 08:03:41|Eleitor foi habilitado                  |file:///app/data/decodificado/o00406-1600400210016.txt|16004    |21            |16             |0          |2         |\n",
      "|2022-10-02 08:05:09|Voto confirmado para [Deputado Federal] |file:///app/data/decodificado/o00406-1600400210016.txt|16004    |21            |16             |0          |2         |\n",
      "|2022-10-02 08:06:04|Voto confirmado para [Deputado Estadual]|file:///app/data/decodificado/o00406-1600400210016.txt|16004    |21            |16             |0          |2         |\n",
      "|2022-10-02 08:06:39|Voto confirmado para [Senador]          |file:///app/data/decodificado/o00406-1600400210016.txt|16004    |21            |16             |0          |2         |\n",
      "|2022-10-02 08:07:07|Voto confirmado para [Governador]       |file:///app/data/decodificado/o00406-1600400210016.txt|16004    |21            |16             |0          |2         |\n",
      "|2022-10-02 08:07:32|Voto confirmado para [Presidente]       |file:///app/data/decodificado/o00406-1600400210016.txt|16004    |21            |16             |0          |2         |\n",
      "|2022-10-02 08:08:47|Eleitor foi habilitado                  |file:///app/data/decodificado/o00406-1600400210016.txt|16004    |21            |16             |0          |3         |\n",
      "|2022-10-02 08:09:21|Voto confirmado para [Deputado Federal] |file:///app/data/decodificado/o00406-1600400210016.txt|16004    |21            |16             |0          |3         |\n",
      "|2022-10-02 08:09:34|Voto confirmado para [Deputado Estadual]|file:///app/data/decodificado/o00406-1600400210016.txt|16004    |21            |16             |0          |3         |\n",
      "|2022-10-02 08:09:43|Voto confirmado para [Senador]          |file:///app/data/decodificado/o00406-1600400210016.txt|16004    |21            |16             |0          |3         |\n",
      "|2022-10-02 08:09:48|Tecla indevida pressionada              |file:///app/data/decodificado/o00406-1600400210016.txt|16004    |21            |16             |1          |3         |\n",
      "|2022-10-02 08:09:51|Voto confirmado para [Governador]       |file:///app/data/decodificado/o00406-1600400210016.txt|16004    |21            |16             |0          |3         |\n",
      "|2022-10-02 08:09:59|Voto confirmado para [Presidente]       |file:///app/data/decodificado/o00406-1600400210016.txt|16004    |21            |16             |0          |3         |\n",
      "|2022-10-02 08:11:53|Eleitor foi habilitado                  |file:///app/data/decodificado/o00406-1600400210016.txt|16004    |21            |16             |0          |4         |\n",
      "+-------------------+----------------------------------------+------------------------------------------------------+---------+--------------+---------------+-----------+----------+\n",
      "only showing top 20 rows\n",
      "\n"
     ]
    },
    {
     "name": "stderr",
     "output_type": "stream",
     "text": [
      "                                                                                \r"
     ]
    }
   ],
   "source": [
    "df_teclas = df_window.filter(~F.col(\"descricao\").rlike(regex_interesse))\n",
    "df_teclas = df_teclas.withColumn(\n",
    "    \"erros_tecla\",\n",
    "    F.when(F.col(\"descricao\") == \"Tecla indevida pressionada\", 1).otherwise(0),\n",
    ")\n",
    "\n",
    "df_teclas = df_teclas.withColumn(\n",
    "    \"id_eleitor\", F.when(F.col(\"descricao\") == \"Eleitor foi habilitado\", 1).otherwise(0)\n",
    ")\n",
    "my_window = (\n",
    "    Window.orderBy(\"data\")\n",
    "    .partitionBy(\"arquivo\")\n",
    "    .rowsBetween(Window.unboundedPreceding, 0)\n",
    ")\n",
    "df_teclas = df_teclas.withColumn(\"id_eleitor\", F.sum(\"id_eleitor\").over(my_window))\n",
    "\n",
    "\n",
    "df_teclas.orderBy([\"arquivo\",\"data\"], ascending=[1,1]).show(truncate=False)"
   ]
  },
  {
   "cell_type": "code",
   "execution_count": 8,
   "metadata": {},
   "outputs": [
    {
     "name": "stderr",
     "output_type": "stream",
     "text": [
      "[Stage 12:>                                                         (0 + 1) / 1]\r"
     ]
    },
    {
     "name": "stdout",
     "output_type": "stream",
     "text": [
      "+-------------------+--------------------+--------------------+---------+--------------+---------------+-----------+----------+---------------+\n",
      "|               data|           descricao|             arquivo|Municipio|Zona_Eleitoral|Secao_Eleitoral|erros_tecla|id_eleitor|erros_ate_agora|\n",
      "+-------------------+--------------------+--------------------+---------+--------------+---------------+-----------+----------+---------------+\n",
      "|2022-10-02 08:05:03|Eleitor foi habil...|file:///app/data/...|    16004|            21|             17|          0|         1|              0|\n",
      "|2022-10-02 08:05:27|Voto confirmado p...|file:///app/data/...|    16004|            21|             17|          0|         1|              0|\n",
      "|2022-10-02 08:05:38|Tecla indevida pr...|file:///app/data/...|    16004|            21|             17|          1|         1|              1|\n",
      "|2022-10-02 08:05:42|Voto confirmado p...|file:///app/data/...|    16004|            21|             17|          0|         1|              1|\n",
      "|2022-10-02 08:05:48|Voto confirmado p...|file:///app/data/...|    16004|            21|             17|          0|         1|              1|\n",
      "|2022-10-02 08:05:55|Voto confirmado p...|file:///app/data/...|    16004|            21|             17|          0|         1|              1|\n",
      "|2022-10-02 08:06:00|Voto confirmado p...|file:///app/data/...|    16004|            21|             17|          0|         1|              1|\n",
      "|2022-10-02 08:07:59|Eleitor foi habil...|file:///app/data/...|    16004|            21|             17|          0|         2|              0|\n",
      "|2022-10-02 08:08:17|Voto confirmado p...|file:///app/data/...|    16004|            21|             17|          0|         2|              0|\n",
      "|2022-10-02 08:08:32|Voto confirmado p...|file:///app/data/...|    16004|            21|             17|          0|         2|              0|\n",
      "|2022-10-02 08:08:45|Voto confirmado p...|file:///app/data/...|    16004|            21|             17|          0|         2|              0|\n",
      "|2022-10-02 08:08:54|Voto confirmado p...|file:///app/data/...|    16004|            21|             17|          0|         2|              0|\n",
      "|2022-10-02 08:09:14|Voto confirmado p...|file:///app/data/...|    16004|            21|             17|          0|         2|              0|\n",
      "|2022-10-02 08:12:13|Eleitor foi habil...|file:///app/data/...|    16004|            21|             17|          0|         3|              0|\n",
      "|2022-10-02 08:12:29|Voto confirmado p...|file:///app/data/...|    16004|            21|             17|          0|         3|              0|\n",
      "|2022-10-02 08:12:43|Voto confirmado p...|file:///app/data/...|    16004|            21|             17|          0|         3|              0|\n",
      "|2022-10-02 08:12:59|Voto confirmado p...|file:///app/data/...|    16004|            21|             17|          0|         3|              0|\n",
      "|2022-10-02 08:13:07|Voto confirmado p...|file:///app/data/...|    16004|            21|             17|          0|         3|              0|\n",
      "|2022-10-02 08:13:16|Voto confirmado p...|file:///app/data/...|    16004|            21|             17|          0|         3|              0|\n",
      "|2022-10-02 08:15:03|Eleitor foi habil...|file:///app/data/...|    16004|            21|             17|          0|         4|              0|\n",
      "+-------------------+--------------------+--------------------+---------+--------------+---------------+-----------+----------+---------------+\n",
      "only showing top 20 rows\n",
      "\n"
     ]
    },
    {
     "name": "stderr",
     "output_type": "stream",
     "text": [
      "                                                                                \r"
     ]
    }
   ],
   "source": [
    "my_window = (\n",
    "    Window.orderBy(\"data\")\n",
    "    .partitionBy(\"arquivo\",\"id_eleitor\")\n",
    "    .rowsBetween(Window.unboundedPreceding, 0)\n",
    ")\n",
    "df_soma_ate_momento = df_teclas.withColumn(\"erros_ate_agora\", F.sum(\"erros_tecla\").over(my_window))\n",
    "df_soma_ate_momento.show()"
   ]
  },
  {
   "cell_type": "code",
   "execution_count": 9,
   "metadata": {},
   "outputs": [
    {
     "name": "stderr",
     "output_type": "stream",
     "text": [
      "[Stage 15:==============================>                          (7 + 6) / 13]\r"
     ]
    },
    {
     "name": "stdout",
     "output_type": "stream",
     "text": [
      "+------------------------------------------------------+----------+----------------+\n",
      "|arquivo                                               |id_eleitor|sum(erros_tecla)|\n",
      "+------------------------------------------------------+----------+----------------+\n",
      "|file:///app/data/decodificado/o00406-1600400210016.txt|1         |0               |\n",
      "|file:///app/data/decodificado/o00406-1600400210016.txt|2         |0               |\n",
      "|file:///app/data/decodificado/o00406-1600400210016.txt|3         |1               |\n",
      "|file:///app/data/decodificado/o00406-1600400210016.txt|4         |7               |\n",
      "|file:///app/data/decodificado/o00406-1600400210016.txt|5         |6               |\n",
      "|file:///app/data/decodificado/o00406-1600400210016.txt|6         |26              |\n",
      "|file:///app/data/decodificado/o00406-1600400210016.txt|7         |0               |\n",
      "|file:///app/data/decodificado/o00406-1600400210016.txt|8         |0               |\n",
      "|file:///app/data/decodificado/o00406-1600400210016.txt|9         |3               |\n",
      "|file:///app/data/decodificado/o00406-1600400210016.txt|10        |0               |\n",
      "|file:///app/data/decodificado/o00406-1600400210016.txt|11        |0               |\n",
      "|file:///app/data/decodificado/o00406-1600400210016.txt|12        |0               |\n",
      "|file:///app/data/decodificado/o00406-1600400210016.txt|13        |0               |\n",
      "|file:///app/data/decodificado/o00406-1600400210016.txt|14        |0               |\n",
      "|file:///app/data/decodificado/o00406-1600400210016.txt|15        |5               |\n",
      "|file:///app/data/decodificado/o00406-1600400210016.txt|16        |0               |\n",
      "|file:///app/data/decodificado/o00406-1600400210016.txt|17        |12              |\n",
      "|file:///app/data/decodificado/o00406-1600400210016.txt|18        |6               |\n",
      "|file:///app/data/decodificado/o00406-1600400210016.txt|19        |5               |\n",
      "|file:///app/data/decodificado/o00406-1600400210016.txt|20        |1               |\n",
      "+------------------------------------------------------+----------+----------------+\n",
      "only showing top 20 rows\n",
      "\n"
     ]
    },
    {
     "name": "stderr",
     "output_type": "stream",
     "text": [
      "                                                                                \r"
     ]
    }
   ],
   "source": [
    "agrupado_eleitor = df_soma_ate_momento.groupBy(\"arquivo\", \"id_eleitor\").agg({\"erros_tecla\": \"sum\"}).orderBy([\"arquivo\",\"id_eleitor\"], ascending=[1,1])\n",
    "agrupado_eleitor.show(truncate=False)"
   ]
  },
  {
   "cell_type": "code",
   "execution_count": 10,
   "metadata": {},
   "outputs": [
    {
     "name": "stderr",
     "output_type": "stream",
     "text": [
      "[Stage 18:=================>                                       (4 + 9) / 13]\r"
     ]
    },
    {
     "name": "stdout",
     "output_type": "stream",
     "text": [
      "+------------------------------------------------------+----------+----------------+\n",
      "|arquivo                                               |id_eleitor|sum(erros_tecla)|\n",
      "+------------------------------------------------------+----------+----------------+\n",
      "|file:///app/data/decodificado/o00406-1781700120175.txt|22        |482             |\n",
      "|file:///app/data/decodificado/o00406-1853800270078.txt|5         |382             |\n",
      "|file:///app/data/decodificado/o00406-1759000330275.txt|48        |358             |\n",
      "|file:///app/data/decodificado/o00406-1683700490080.txt|173       |355             |\n",
      "|file:///app/data/decodificado/o00406-1618700430062.txt|21        |337             |\n",
      "|file:///app/data/decodificado/o00406-1605500180059.txt|44        |320             |\n",
      "|file:///app/data/decodificado/o00406-1889900490110.txt|71        |309             |\n",
      "|file:///app/data/decodificado/o00406-1747700380021.txt|155       |289             |\n",
      "|file:///app/data/decodificado/o00406-1787600400132.txt|10        |273             |\n",
      "|file:///app/data/decodificado/o00406-1645400360030.txt|26        |266             |\n",
      "|file:///app/data/decodificado/o00406-1617900380055.txt|29        |260             |\n",
      "|file:///app/data/decodificado/o00406-1719100270056.txt|19        |246             |\n",
      "|file:///app/data/decodificado/o00406-1643800110037.txt|130       |243             |\n",
      "|file:///app/data/decodificado/o00406-1607100650024.txt|201       |240             |\n",
      "|file:///app/data/decodificado/o00406-1713200100047.txt|100       |235             |\n",
      "|file:///app/data/decodificado/o00406-1721300370048.txt|9         |229             |\n",
      "|file:///app/data/decodificado/o00406-3003100580098.txt|86        |229             |\n",
      "|file:///app/data/decodificado/o00406-1893700370076.txt|75        |223             |\n",
      "|file:///app/data/decodificado/o00406-1761200690252.txt|50        |217             |\n",
      "|file:///app/data/decodificado/o00406-1849000080022.txt|157       |216             |\n",
      "+------------------------------------------------------+----------+----------------+\n",
      "only showing top 20 rows\n",
      "\n"
     ]
    },
    {
     "name": "stderr",
     "output_type": "stream",
     "text": [
      "                                                                                \r"
     ]
    }
   ],
   "source": [
    "agrupado_eleitor.orderBy([\"sum(erros_tecla)\"], ascending=[0]).show(truncate=False)"
   ]
  },
  {
   "cell_type": "code",
   "execution_count": 12,
   "metadata": {},
   "outputs": [
    {
     "name": "stderr",
     "output_type": "stream",
     "text": [
      "[Stage 22:=====================================================>(267 + 3) / 270]\r"
     ]
    },
    {
     "name": "stdout",
     "output_type": "stream",
     "text": [
      "+-------------------+---------------------------------------+------------------------------------------------------+---------+--------------+---------------+-----------+----------+---------------+\n",
      "|data               |descricao                              |arquivo                                               |Municipio|Zona_Eleitoral|Secao_Eleitoral|erros_tecla|id_eleitor|erros_ate_agora|\n",
      "+-------------------+---------------------------------------+------------------------------------------------------+---------+--------------+---------------+-----------+----------+---------------+\n",
      "|2022-10-02 09:10:36|Eleitor foi habilitado                 |file:///app/data/decodificado/o00406-1781700120175.txt|17817    |12            |175            |0          |22        |0              |\n",
      "|2022-10-02 09:10:54|Tecla indevida pressionada             |file:///app/data/decodificado/o00406-1781700120175.txt|17817    |12            |175            |1          |22        |1              |\n",
      "|2022-10-02 09:11:01|Tecla indevida pressionada             |file:///app/data/decodificado/o00406-1781700120175.txt|17817    |12            |175            |1          |22        |2              |\n",
      "|2022-10-02 09:11:06|Tecla indevida pressionada             |file:///app/data/decodificado/o00406-1781700120175.txt|17817    |12            |175            |1          |22        |3              |\n",
      "|2022-10-02 09:11:08|Tecla indevida pressionada             |file:///app/data/decodificado/o00406-1781700120175.txt|17817    |12            |175            |1          |22        |4              |\n",
      "|2022-10-02 09:11:09|Tecla indevida pressionada             |file:///app/data/decodificado/o00406-1781700120175.txt|17817    |12            |175            |1          |22        |5              |\n",
      "|2022-10-02 09:11:19|Tecla indevida pressionada             |file:///app/data/decodificado/o00406-1781700120175.txt|17817    |12            |175            |1          |22        |6              |\n",
      "|2022-10-02 09:11:22|Tecla indevida pressionada             |file:///app/data/decodificado/o00406-1781700120175.txt|17817    |12            |175            |1          |22        |7              |\n",
      "|2022-10-02 09:11:23|Tecla indevida pressionada             |file:///app/data/decodificado/o00406-1781700120175.txt|17817    |12            |175            |1          |22        |8              |\n",
      "|2022-10-02 09:11:28|Tecla indevida pressionada             |file:///app/data/decodificado/o00406-1781700120175.txt|17817    |12            |175            |1          |22        |9              |\n",
      "|2022-10-02 09:11:31|Tecla indevida pressionada             |file:///app/data/decodificado/o00406-1781700120175.txt|17817    |12            |175            |1          |22        |10             |\n",
      "|2022-10-02 09:11:32|Tecla indevida pressionada             |file:///app/data/decodificado/o00406-1781700120175.txt|17817    |12            |175            |1          |22        |11             |\n",
      "|2022-10-02 09:11:37|Tecla indevida pressionada             |file:///app/data/decodificado/o00406-1781700120175.txt|17817    |12            |175            |1          |22        |12             |\n",
      "|2022-10-02 09:11:39|Tecla indevida pressionada             |file:///app/data/decodificado/o00406-1781700120175.txt|17817    |12            |175            |1          |22        |13             |\n",
      "|2022-10-02 09:11:41|Tecla indevida pressionada             |file:///app/data/decodificado/o00406-1781700120175.txt|17817    |12            |175            |1          |22        |14             |\n",
      "|2022-10-02 09:11:43|Tecla indevida pressionada             |file:///app/data/decodificado/o00406-1781700120175.txt|17817    |12            |175            |1          |22        |15             |\n",
      "|2022-10-02 09:11:47|Tecla indevida pressionada             |file:///app/data/decodificado/o00406-1781700120175.txt|17817    |12            |175            |1          |22        |16             |\n",
      "|2022-10-02 09:11:49|Tecla indevida pressionada             |file:///app/data/decodificado/o00406-1781700120175.txt|17817    |12            |175            |1          |22        |17             |\n",
      "|2022-10-02 09:11:50|Tecla indevida pressionada             |file:///app/data/decodificado/o00406-1781700120175.txt|17817    |12            |175            |1          |22        |18             |\n",
      "|2022-10-02 09:11:58|Tecla indevida pressionada             |file:///app/data/decodificado/o00406-1781700120175.txt|17817    |12            |175            |1          |22        |19             |\n",
      "|2022-10-02 09:12:00|Tecla indevida pressionada             |file:///app/data/decodificado/o00406-1781700120175.txt|17817    |12            |175            |1          |22        |20             |\n",
      "|2022-10-02 09:12:01|Tecla indevida pressionada             |file:///app/data/decodificado/o00406-1781700120175.txt|17817    |12            |175            |1          |22        |21             |\n",
      "|2022-10-02 09:12:11|Tecla indevida pressionada             |file:///app/data/decodificado/o00406-1781700120175.txt|17817    |12            |175            |1          |22        |22             |\n",
      "|2022-10-02 09:12:12|Tecla indevida pressionada             |file:///app/data/decodificado/o00406-1781700120175.txt|17817    |12            |175            |1          |22        |23             |\n",
      "|2022-10-02 09:12:17|Tecla indevida pressionada             |file:///app/data/decodificado/o00406-1781700120175.txt|17817    |12            |175            |1          |22        |24             |\n",
      "|2022-10-02 09:12:19|Tecla indevida pressionada             |file:///app/data/decodificado/o00406-1781700120175.txt|17817    |12            |175            |1          |22        |25             |\n",
      "|2022-10-02 09:12:22|Tecla indevida pressionada             |file:///app/data/decodificado/o00406-1781700120175.txt|17817    |12            |175            |1          |22        |26             |\n",
      "|2022-10-02 09:12:33|Tecla indevida pressionada             |file:///app/data/decodificado/o00406-1781700120175.txt|17817    |12            |175            |1          |22        |27             |\n",
      "|2022-10-02 09:12:38|Tecla indevida pressionada             |file:///app/data/decodificado/o00406-1781700120175.txt|17817    |12            |175            |1          |22        |28             |\n",
      "|2022-10-02 09:12:40|Tecla indevida pressionada             |file:///app/data/decodificado/o00406-1781700120175.txt|17817    |12            |175            |1          |22        |29             |\n",
      "|2022-10-02 09:13:08|Tecla indevida pressionada             |file:///app/data/decodificado/o00406-1781700120175.txt|17817    |12            |175            |1          |22        |30             |\n",
      "|2022-10-02 09:13:12|Tecla indevida pressionada             |file:///app/data/decodificado/o00406-1781700120175.txt|17817    |12            |175            |1          |22        |31             |\n",
      "|2022-10-02 09:13:20|Tecla indevida pressionada             |file:///app/data/decodificado/o00406-1781700120175.txt|17817    |12            |175            |1          |22        |32             |\n",
      "|2022-10-02 09:13:23|Tecla indevida pressionada             |file:///app/data/decodificado/o00406-1781700120175.txt|17817    |12            |175            |1          |22        |33             |\n",
      "|2022-10-02 09:13:25|Tecla indevida pressionada             |file:///app/data/decodificado/o00406-1781700120175.txt|17817    |12            |175            |1          |22        |34             |\n",
      "|2022-10-02 09:13:40|Tecla indevida pressionada             |file:///app/data/decodificado/o00406-1781700120175.txt|17817    |12            |175            |1          |22        |35             |\n",
      "|2022-10-02 09:13:43|Tecla indevida pressionada             |file:///app/data/decodificado/o00406-1781700120175.txt|17817    |12            |175            |1          |22        |36             |\n",
      "|2022-10-02 09:13:49|Tecla indevida pressionada             |file:///app/data/decodificado/o00406-1781700120175.txt|17817    |12            |175            |1          |22        |37             |\n",
      "|2022-10-02 09:13:50|Tecla indevida pressionada             |file:///app/data/decodificado/o00406-1781700120175.txt|17817    |12            |175            |1          |22        |38             |\n",
      "|2022-10-02 09:13:55|Tecla indevida pressionada             |file:///app/data/decodificado/o00406-1781700120175.txt|17817    |12            |175            |1          |22        |39             |\n",
      "|2022-10-02 09:13:56|Tecla indevida pressionada             |file:///app/data/decodificado/o00406-1781700120175.txt|17817    |12            |175            |1          |22        |40             |\n",
      "|2022-10-02 09:14:02|Tecla indevida pressionada             |file:///app/data/decodificado/o00406-1781700120175.txt|17817    |12            |175            |1          |22        |41             |\n",
      "|2022-10-02 09:14:03|Tecla indevida pressionada             |file:///app/data/decodificado/o00406-1781700120175.txt|17817    |12            |175            |1          |22        |42             |\n",
      "|2022-10-02 09:14:10|Tecla indevida pressionada             |file:///app/data/decodificado/o00406-1781700120175.txt|17817    |12            |175            |1          |22        |43             |\n",
      "|2022-10-02 09:14:17|Tecla indevida pressionada             |file:///app/data/decodificado/o00406-1781700120175.txt|17817    |12            |175            |1          |22        |44             |\n",
      "|2022-10-02 09:14:21|Tecla indevida pressionada             |file:///app/data/decodificado/o00406-1781700120175.txt|17817    |12            |175            |1          |22        |45             |\n",
      "|2022-10-02 09:14:23|Tecla indevida pressionada             |file:///app/data/decodificado/o00406-1781700120175.txt|17817    |12            |175            |1          |22        |46             |\n",
      "|2022-10-02 09:14:44|Tecla indevida pressionada             |file:///app/data/decodificado/o00406-1781700120175.txt|17817    |12            |175            |1          |22        |47             |\n",
      "|2022-10-02 09:14:47|Tecla indevida pressionada             |file:///app/data/decodificado/o00406-1781700120175.txt|17817    |12            |175            |1          |22        |48             |\n",
      "|2022-10-02 09:14:50|Tecla indevida pressionada             |file:///app/data/decodificado/o00406-1781700120175.txt|17817    |12            |175            |1          |22        |49             |\n",
      "|2022-10-02 09:14:54|Tecla indevida pressionada             |file:///app/data/decodificado/o00406-1781700120175.txt|17817    |12            |175            |1          |22        |50             |\n",
      "|2022-10-02 09:14:56|Tecla indevida pressionada             |file:///app/data/decodificado/o00406-1781700120175.txt|17817    |12            |175            |1          |22        |51             |\n",
      "|2022-10-02 09:15:01|Tecla indevida pressionada             |file:///app/data/decodificado/o00406-1781700120175.txt|17817    |12            |175            |1          |22        |52             |\n",
      "|2022-10-02 09:15:03|Tecla indevida pressionada             |file:///app/data/decodificado/o00406-1781700120175.txt|17817    |12            |175            |1          |22        |53             |\n",
      "|2022-10-02 09:15:08|Tecla indevida pressionada             |file:///app/data/decodificado/o00406-1781700120175.txt|17817    |12            |175            |1          |22        |54             |\n",
      "|2022-10-02 09:15:10|Tecla indevida pressionada             |file:///app/data/decodificado/o00406-1781700120175.txt|17817    |12            |175            |1          |22        |55             |\n",
      "|2022-10-02 09:15:12|Tecla indevida pressionada             |file:///app/data/decodificado/o00406-1781700120175.txt|17817    |12            |175            |1          |22        |56             |\n",
      "|2022-10-02 09:15:40|Tecla indevida pressionada             |file:///app/data/decodificado/o00406-1781700120175.txt|17817    |12            |175            |1          |22        |57             |\n",
      "|2022-10-02 09:15:42|Tecla indevida pressionada             |file:///app/data/decodificado/o00406-1781700120175.txt|17817    |12            |175            |1          |22        |58             |\n",
      "|2022-10-02 09:15:44|Tecla indevida pressionada             |file:///app/data/decodificado/o00406-1781700120175.txt|17817    |12            |175            |1          |22        |59             |\n",
      "|2022-10-02 09:15:47|Voto confirmado para [Deputado Federal]|file:///app/data/decodificado/o00406-1781700120175.txt|17817    |12            |175            |0          |22        |59             |\n",
      "|2022-10-02 09:16:00|Tecla indevida pressionada             |file:///app/data/decodificado/o00406-1781700120175.txt|17817    |12            |175            |1          |22        |60             |\n",
      "|2022-10-02 09:16:02|Tecla indevida pressionada             |file:///app/data/decodificado/o00406-1781700120175.txt|17817    |12            |175            |1          |22        |61             |\n",
      "|2022-10-02 09:16:05|Tecla indevida pressionada             |file:///app/data/decodificado/o00406-1781700120175.txt|17817    |12            |175            |1          |22        |62             |\n",
      "|2022-10-02 09:16:07|Tecla indevida pressionada             |file:///app/data/decodificado/o00406-1781700120175.txt|17817    |12            |175            |1          |22        |63             |\n",
      "|2022-10-02 09:16:14|Tecla indevida pressionada             |file:///app/data/decodificado/o00406-1781700120175.txt|17817    |12            |175            |1          |22        |64             |\n",
      "|2022-10-02 09:16:16|Tecla indevida pressionada             |file:///app/data/decodificado/o00406-1781700120175.txt|17817    |12            |175            |1          |22        |65             |\n",
      "|2022-10-02 09:16:17|Tecla indevida pressionada             |file:///app/data/decodificado/o00406-1781700120175.txt|17817    |12            |175            |1          |22        |66             |\n",
      "|2022-10-02 09:16:21|Tecla indevida pressionada             |file:///app/data/decodificado/o00406-1781700120175.txt|17817    |12            |175            |1          |22        |67             |\n",
      "|2022-10-02 09:16:22|Tecla indevida pressionada             |file:///app/data/decodificado/o00406-1781700120175.txt|17817    |12            |175            |1          |22        |68             |\n",
      "|2022-10-02 09:16:24|Tecla indevida pressionada             |file:///app/data/decodificado/o00406-1781700120175.txt|17817    |12            |175            |1          |22        |69             |\n",
      "|2022-10-02 09:16:29|Tecla indevida pressionada             |file:///app/data/decodificado/o00406-1781700120175.txt|17817    |12            |175            |1          |22        |70             |\n",
      "|2022-10-02 09:16:32|Tecla indevida pressionada             |file:///app/data/decodificado/o00406-1781700120175.txt|17817    |12            |175            |1          |22        |71             |\n",
      "|2022-10-02 09:16:35|Tecla indevida pressionada             |file:///app/data/decodificado/o00406-1781700120175.txt|17817    |12            |175            |1          |22        |72             |\n",
      "|2022-10-02 09:16:37|Tecla indevida pressionada             |file:///app/data/decodificado/o00406-1781700120175.txt|17817    |12            |175            |1          |22        |73             |\n",
      "|2022-10-02 09:16:41|Tecla indevida pressionada             |file:///app/data/decodificado/o00406-1781700120175.txt|17817    |12            |175            |1          |22        |74             |\n",
      "|2022-10-02 09:16:42|Tecla indevida pressionada             |file:///app/data/decodificado/o00406-1781700120175.txt|17817    |12            |175            |1          |22        |75             |\n",
      "|2022-10-02 09:16:50|Tecla indevida pressionada             |file:///app/data/decodificado/o00406-1781700120175.txt|17817    |12            |175            |1          |22        |76             |\n",
      "|2022-10-02 09:16:56|Tecla indevida pressionada             |file:///app/data/decodificado/o00406-1781700120175.txt|17817    |12            |175            |1          |22        |77             |\n",
      "|2022-10-02 09:17:01|Tecla indevida pressionada             |file:///app/data/decodificado/o00406-1781700120175.txt|17817    |12            |175            |1          |22        |78             |\n",
      "|2022-10-02 09:17:04|Tecla indevida pressionada             |file:///app/data/decodificado/o00406-1781700120175.txt|17817    |12            |175            |1          |22        |79             |\n",
      "|2022-10-02 09:17:12|Tecla indevida pressionada             |file:///app/data/decodificado/o00406-1781700120175.txt|17817    |12            |175            |1          |22        |80             |\n",
      "|2022-10-02 09:17:13|Tecla indevida pressionada             |file:///app/data/decodificado/o00406-1781700120175.txt|17817    |12            |175            |1          |22        |81             |\n",
      "|2022-10-02 09:17:14|Tecla indevida pressionada             |file:///app/data/decodificado/o00406-1781700120175.txt|17817    |12            |175            |1          |22        |82             |\n",
      "|2022-10-02 09:17:16|Tecla indevida pressionada             |file:///app/data/decodificado/o00406-1781700120175.txt|17817    |12            |175            |1          |22        |83             |\n",
      "|2022-10-02 09:17:17|Tecla indevida pressionada             |file:///app/data/decodificado/o00406-1781700120175.txt|17817    |12            |175            |1          |22        |84             |\n",
      "|2022-10-02 09:17:21|Tecla indevida pressionada             |file:///app/data/decodificado/o00406-1781700120175.txt|17817    |12            |175            |1          |22        |85             |\n",
      "|2022-10-02 09:17:22|Tecla indevida pressionada             |file:///app/data/decodificado/o00406-1781700120175.txt|17817    |12            |175            |1          |22        |86             |\n",
      "|2022-10-02 09:17:23|Tecla indevida pressionada             |file:///app/data/decodificado/o00406-1781700120175.txt|17817    |12            |175            |1          |22        |87             |\n",
      "|2022-10-02 09:17:24|Tecla indevida pressionada             |file:///app/data/decodificado/o00406-1781700120175.txt|17817    |12            |175            |1          |22        |88             |\n",
      "|2022-10-02 09:17:24|Tecla indevida pressionada             |file:///app/data/decodificado/o00406-1781700120175.txt|17817    |12            |175            |1          |22        |89             |\n",
      "|2022-10-02 09:17:29|Tecla indevida pressionada             |file:///app/data/decodificado/o00406-1781700120175.txt|17817    |12            |175            |1          |22        |90             |\n",
      "|2022-10-02 09:17:30|Tecla indevida pressionada             |file:///app/data/decodificado/o00406-1781700120175.txt|17817    |12            |175            |1          |22        |91             |\n",
      "|2022-10-02 09:17:31|Tecla indevida pressionada             |file:///app/data/decodificado/o00406-1781700120175.txt|17817    |12            |175            |1          |22        |92             |\n",
      "|2022-10-02 09:17:32|Tecla indevida pressionada             |file:///app/data/decodificado/o00406-1781700120175.txt|17817    |12            |175            |1          |22        |93             |\n",
      "|2022-10-02 09:17:35|Tecla indevida pressionada             |file:///app/data/decodificado/o00406-1781700120175.txt|17817    |12            |175            |1          |22        |94             |\n",
      "|2022-10-02 09:17:38|Tecla indevida pressionada             |file:///app/data/decodificado/o00406-1781700120175.txt|17817    |12            |175            |1          |22        |95             |\n",
      "|2022-10-02 09:17:39|Tecla indevida pressionada             |file:///app/data/decodificado/o00406-1781700120175.txt|17817    |12            |175            |1          |22        |96             |\n",
      "|2022-10-02 09:17:40|Tecla indevida pressionada             |file:///app/data/decodificado/o00406-1781700120175.txt|17817    |12            |175            |1          |22        |97             |\n",
      "|2022-10-02 09:17:41|Tecla indevida pressionada             |file:///app/data/decodificado/o00406-1781700120175.txt|17817    |12            |175            |1          |22        |98             |\n",
      "+-------------------+---------------------------------------+------------------------------------------------------+---------+--------------+---------------+-----------+----------+---------------+\n",
      "only showing top 100 rows\n",
      "\n"
     ]
    },
    {
     "name": "stderr",
     "output_type": "stream",
     "text": [
      "                                                                                \r"
     ]
    }
   ],
   "source": [
    "teste = df_soma_ate_momento.filter((F.abs(F.col(\"id_eleitor\") - 22) < 1) & (F.col(\"arquivo\") == \"file:///app/data/decodificado/o00406-1781700120175.txt\"))\n",
    "teste.show(100,truncate=False)\n"
   ]
  },
  {
   "cell_type": "code",
   "execution_count": 11,
   "metadata": {},
   "outputs": [
    {
     "name": "stderr",
     "output_type": "stream",
     "text": [
      "                                                                                \r"
     ]
    },
    {
     "name": "stdout",
     "output_type": "stream",
     "text": [
      "+--------------------+----------+-------------------+--------------------+---------+--------------+---------------+---------------+----------------+\n",
      "|             arquivo|id_eleitor|               data|           descricao|Municipio|Zona_Eleitoral|Secao_Eleitoral|erros_ate_agora|sum(erros_tecla)|\n",
      "+--------------------+----------+-------------------+--------------------+---------+--------------+---------------+---------------+----------------+\n",
      "|file:///app/data/...|         1|2022-10-02 08:03:11|Eleitor foi habil...|    16004|            21|             53|              0|               2|\n",
      "|file:///app/data/...|         1|2022-10-02 08:03:20|Voto confirmado p...|    16004|            21|             53|              0|               2|\n",
      "|file:///app/data/...|         1|2022-10-02 08:03:28|Tecla indevida pr...|    16004|            21|             53|              1|               2|\n",
      "|file:///app/data/...|         1|2022-10-02 08:03:32|Voto confirmado p...|    16004|            21|             53|              1|               2|\n",
      "|file:///app/data/...|         1|2022-10-02 08:03:39|Voto confirmado p...|    16004|            21|             53|              1|               2|\n",
      "+--------------------+----------+-------------------+--------------------+---------+--------------+---------------+---------------+----------------+\n",
      "only showing top 5 rows\n",
      "\n"
     ]
    }
   ],
   "source": [
    "df_soma_tecla = df_soma_ate_momento.join(agrupado_eleitor, on=['arquivo', 'id_eleitor'], how='left')\n",
    "df_soma_tecla = df_soma_tecla.drop(\"erros_tecla\")\n",
    "df_soma_tecla.show(5)"
   ]
  },
  {
   "cell_type": "code",
   "execution_count": 12,
   "metadata": {},
   "outputs": [
    {
     "name": "stderr",
     "output_type": "stream",
     "text": [
      "[Stage 32:===================================================>    (12 + 1) / 13]\r"
     ]
    },
    {
     "name": "stdout",
     "output_type": "stream",
     "text": [
      "+--------------------+----------+-------------------+--------------------+---------+--------------+---------------+---------------+----------------+\n",
      "|             arquivo|id_eleitor|               data|           descricao|Municipio|Zona_Eleitoral|Secao_Eleitoral|erros_ate_agora|sum(erros_tecla)|\n",
      "+--------------------+----------+-------------------+--------------------+---------+--------------+---------------+---------------+----------------+\n",
      "|file:///app/data/...|         1|2022-10-02 08:03:11|Eleitor foi habil...|    16004|            21|             53|              0|               2|\n",
      "|file:///app/data/...|         1|2022-10-02 08:03:20|Voto confirmado p...|    16004|            21|             53|              0|               2|\n",
      "|file:///app/data/...|         1|2022-10-02 08:03:32|Voto confirmado p...|    16004|            21|             53|              1|               2|\n",
      "|file:///app/data/...|         1|2022-10-02 08:03:39|Voto confirmado p...|    16004|            21|             53|              1|               2|\n",
      "|file:///app/data/...|         1|2022-10-02 08:03:45|Voto confirmado p...|    16004|            21|             53|              2|               2|\n",
      "+--------------------+----------+-------------------+--------------------+---------+--------------+---------------+---------------+----------------+\n",
      "only showing top 5 rows\n",
      "\n"
     ]
    },
    {
     "name": "stderr",
     "output_type": "stream",
     "text": [
      "                                                                                \r"
     ]
    }
   ],
   "source": [
    "df_sem_tecla = df_soma_tecla.filter(\n",
    "    ~F.col(\"descricao\").isin([\"Tecla indevida pressionada\"])\n",
    ")\n",
    "df_sem_tecla.show(5)"
   ]
  },
  {
   "cell_type": "code",
   "execution_count": 13,
   "metadata": {},
   "outputs": [
    {
     "name": "stderr",
     "output_type": "stream",
     "text": [
      "[Stage 48:>                                                         (0 + 1) / 1]\r"
     ]
    },
    {
     "name": "stdout",
     "output_type": "stream",
     "text": [
      "+--------------------+----------+-------------------+--------------------+---------+--------------+---------------+---------------+----------------+-------------------+---------------+\n",
      "|             arquivo|id_eleitor|               data|           descricao|Municipio|Zona_Eleitoral|Secao_Eleitoral|erros_ate_agora|sum(erros_tecla)|          lag_tempo|tempo(segundos)|\n",
      "+--------------------+----------+-------------------+--------------------+---------+--------------+---------------+---------------+----------------+-------------------+---------------+\n",
      "|file:///app/data/...|         9|2022-10-02 08:37:01|Eleitor foi habil...|    16004|            21|             16|              0|               3|               NULL|           NULL|\n",
      "|file:///app/data/...|         9|2022-10-02 08:37:39|Voto confirmado p...|    16004|            21|             16|              0|               3|2022-10-02 08:37:01|             38|\n",
      "|file:///app/data/...|         9|2022-10-02 08:37:55|Voto confirmado p...|    16004|            21|             16|              0|               3|2022-10-02 08:37:39|             16|\n",
      "|file:///app/data/...|         9|2022-10-02 08:38:09|Voto confirmado p...|    16004|            21|             16|              0|               3|2022-10-02 08:37:55|             14|\n",
      "|file:///app/data/...|         9|2022-10-02 08:38:18|Voto confirmado p...|    16004|            21|             16|              0|               3|2022-10-02 08:38:09|              9|\n",
      "|file:///app/data/...|         9|2022-10-02 08:39:12|Voto confirmado p...|    16004|            21|             16|              3|               3|2022-10-02 08:38:18|             54|\n",
      "|file:///app/data/...|        12|2022-10-02 08:45:16|Eleitor foi habil...|    16004|            21|             16|              0|               0|               NULL|           NULL|\n",
      "|file:///app/data/...|        12|2022-10-02 08:45:50|Voto confirmado p...|    16004|            21|             16|              0|               0|2022-10-02 08:45:16|             34|\n",
      "|file:///app/data/...|        12|2022-10-02 08:46:06|Voto confirmado p...|    16004|            21|             16|              0|               0|2022-10-02 08:45:50|             16|\n",
      "|file:///app/data/...|        12|2022-10-02 08:46:18|Voto confirmado p...|    16004|            21|             16|              0|               0|2022-10-02 08:46:06|             12|\n",
      "|file:///app/data/...|        12|2022-10-02 08:46:23|Voto confirmado p...|    16004|            21|             16|              0|               0|2022-10-02 08:46:18|              5|\n",
      "|file:///app/data/...|        12|2022-10-02 08:46:33|Voto confirmado p...|    16004|            21|             16|              0|               0|2022-10-02 08:46:23|             10|\n",
      "|file:///app/data/...|        20|2022-10-02 09:13:19|Eleitor foi habil...|    16004|            21|             16|              0|               1|               NULL|           NULL|\n",
      "|file:///app/data/...|        20|2022-10-02 09:13:49|Voto confirmado p...|    16004|            21|             16|              1|               1|2022-10-02 09:13:19|             30|\n",
      "|file:///app/data/...|        20|2022-10-02 09:14:26|Voto confirmado p...|    16004|            21|             16|              1|               1|2022-10-02 09:13:49|             37|\n",
      "|file:///app/data/...|        20|2022-10-02 09:14:42|Voto confirmado p...|    16004|            21|             16|              1|               1|2022-10-02 09:14:26|             16|\n",
      "|file:///app/data/...|        20|2022-10-02 09:14:50|Voto confirmado p...|    16004|            21|             16|              1|               1|2022-10-02 09:14:42|              8|\n",
      "|file:///app/data/...|        20|2022-10-02 09:14:56|Voto confirmado p...|    16004|            21|             16|              1|               1|2022-10-02 09:14:50|              6|\n",
      "|file:///app/data/...|        24|2022-10-02 09:27:59|Eleitor foi habil...|    16004|            21|             16|              0|               0|               NULL|           NULL|\n",
      "|file:///app/data/...|        24|2022-10-02 09:28:23|Voto confirmado p...|    16004|            21|             16|              0|               0|2022-10-02 09:27:59|             24|\n",
      "+--------------------+----------+-------------------+--------------------+---------+--------------+---------------+---------------+----------------+-------------------+---------------+\n",
      "only showing top 20 rows\n",
      "\n"
     ]
    },
    {
     "name": "stderr",
     "output_type": "stream",
     "text": [
      "                                                                                \r"
     ]
    }
   ],
   "source": [
    "w = Window.partitionBy(\"arquivo\", \"id_eleitor\").orderBy(\"data\")\n",
    "df_tempo_segundos = (\n",
    "    df_sem_tecla.withColumn(\"lag_tempo\", F.lag(df_teclas[\"data\"], 1).over(w))\n",
    "    .withColumn(\n",
    "        \"tempo(segundos)\",\n",
    "        (\n",
    "            F.unix_timestamp(\n",
    "                df_teclas[\"data\"],\n",
    "            )\n",
    "            - F.unix_timestamp(F.col(\"lag_tempo\"))\n",
    "        ),\n",
    "    )\n",
    ")\n",
    "df_tempo_segundos.show()"
   ]
  },
  {
   "cell_type": "code",
   "execution_count": 14,
   "metadata": {},
   "outputs": [
    {
     "name": "stderr",
     "output_type": "stream",
     "text": [
      "[Stage 59:>                                                         (0 + 1) / 1]\r"
     ]
    },
    {
     "name": "stdout",
     "output_type": "stream",
     "text": [
      "+--------------------+----------+-------------------+------------------+---------+--------------+---------------+---------------+----------------+---------------+\n",
      "|             arquivo|id_eleitor|               data|         descricao|Municipio|Zona_Eleitoral|Secao_Eleitoral|erros_ate_agora|sum(erros_tecla)|tempo(segundos)|\n",
      "+--------------------+----------+-------------------+------------------+---------+--------------+---------------+---------------+----------------+---------------+\n",
      "|file:///app/data/...|         9|2022-10-02 08:37:39|  Deputado Federal|    16004|            21|             16|              0|               3|             38|\n",
      "|file:///app/data/...|         9|2022-10-02 08:37:55| Deputado Estadual|    16004|            21|             16|              0|               3|             16|\n",
      "|file:///app/data/...|         9|2022-10-02 08:38:09|           Senador|    16004|            21|             16|              0|               3|             14|\n",
      "|file:///app/data/...|         9|2022-10-02 08:38:18|        Governador|    16004|            21|             16|              0|               3|              9|\n",
      "|file:///app/data/...|         9|2022-10-02 08:39:12|        Presidente|    16004|            21|             16|              3|               3|             54|\n",
      "|file:///app/data/...|        12|2022-10-02 08:45:50|  Deputado Federal|    16004|            21|             16|              0|               0|             34|\n",
      "|file:///app/data/...|        12|2022-10-02 08:46:06| Deputado Estadual|    16004|            21|             16|              0|               0|             16|\n",
      "|file:///app/data/...|        12|2022-10-02 08:46:18|           Senador|    16004|            21|             16|              0|               0|             12|\n",
      "|file:///app/data/...|        12|2022-10-02 08:46:23|        Governador|    16004|            21|             16|              0|               0|              5|\n",
      "|file:///app/data/...|        12|2022-10-02 08:46:33|        Presidente|    16004|            21|             16|              0|               0|             10|\n",
      "|file:///app/data/...|        20|2022-10-02 09:13:49|  Deputado Federal|    16004|            21|             16|              1|               1|             30|\n",
      "|file:///app/data/...|        20|2022-10-02 09:14:26| Deputado Estadual|    16004|            21|             16|              1|               1|             37|\n",
      "|file:///app/data/...|        20|2022-10-02 09:14:42|           Senador|    16004|            21|             16|              1|               1|             16|\n",
      "|file:///app/data/...|        20|2022-10-02 09:14:50|        Governador|    16004|            21|             16|              1|               1|              8|\n",
      "|file:///app/data/...|        20|2022-10-02 09:14:56|        Presidente|    16004|            21|             16|              1|               1|              6|\n",
      "|file:///app/data/...|        24|2022-10-02 09:28:23|  Deputado Federal|    16004|            21|             16|              0|               0|             24|\n",
      "|file:///app/data/...|        24|2022-10-02 09:28:41| Deputado Estadual|    16004|            21|             16|              0|               0|             18|\n",
      "|file:///app/data/...|        24|2022-10-02 09:28:51|           Senador|    16004|            21|             16|              0|               0|             10|\n",
      "|file:///app/data/...|        24|2022-10-02 09:29:00|        Governador|    16004|            21|             16|              0|               0|              9|\n",
      "|file:///app/data/...|        24|2022-10-02 09:29:06|        Presidente|    16004|            21|             16|              0|               0|              6|\n",
      "+--------------------+----------+-------------------+------------------+---------+--------------+---------------+---------------+----------------+---------------+\n",
      "only showing top 20 rows\n",
      "\n"
     ]
    },
    {
     "name": "stderr",
     "output_type": "stream",
     "text": [
      "                                                                                \r"
     ]
    }
   ],
   "source": [
    "df_final = df_tempo_segundos.drop(\"lag_tempo\")\n",
    "df_final = df_final.filter(\n",
    "    ~F.col(\"descricao\").isin([\"Eleitor foi habilitado\"])\n",
    ")\n",
    "df_final = df_final.withColumn(\"descricao\", F.regexp_replace(\"descricao\", r\"(\\[|\\]|\\bVoto confirmado para\\b)\", \"\"))\n",
    "df_final.show()"
   ]
  },
  {
   "cell_type": "code",
   "execution_count": 15,
   "metadata": {},
   "outputs": [
    {
     "name": "stderr",
     "output_type": "stream",
     "text": [
      "                                                                                \r"
     ]
    }
   ],
   "source": [
    "df_final.write.mode('overwrite').parquet(DATA_PATH+\"dados_log_urna\")"
   ]
  },
  {
   "cell_type": "code",
   "execution_count": 13,
   "metadata": {},
   "outputs": [],
   "source": [
    "sc.stop()"
   ]
  }
 ],
 "metadata": {
  "kernelspec": {
   "display_name": "base",
   "language": "python",
   "name": "python3"
  },
  "language_info": {
   "codemirror_mode": {
    "name": "ipython",
    "version": 3
   },
   "file_extension": ".py",
   "mimetype": "text/x-python",
   "name": "python",
   "nbconvert_exporter": "python",
   "pygments_lexer": "ipython3",
   "version": "3.11.5"
  }
 },
 "nbformat": 4,
 "nbformat_minor": 2
}
